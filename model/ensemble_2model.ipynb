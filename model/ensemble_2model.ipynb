{
 "cells": [
  {
   "cell_type": "code",
   "execution_count": 7,
   "metadata": {},
   "outputs": [],
   "source": [
    "# coding:utf-8\n",
    "\n",
    "import numpy as np\n",
    "import pandas as pd\n",
    "from pandas import Series, DataFrame\n",
    "\n",
    "import matplotlib.pyplot as plt\n",
    "\n",
    "from sklearn.model_selection import train_test_split\n",
    "\n",
    "\n",
    "%matplotlib inline"
   ]
  },
  {
   "cell_type": "code",
   "execution_count": 8,
   "metadata": {
    "scrolled": true
   },
   "outputs": [
    {
     "name": "stderr",
     "output_type": "stream",
     "text": [
      "/home/ubuntu/anaconda3/envs/tensorflow_p36/lib/python3.6/site-packages/ipykernel/__main__.py:1: ParserWarning: Falling back to the 'python' engine because the 'c' engine does not support regex separators (separators > 1 char and different from '\\s+' are interpreted as regex); you can avoid this warning by specifying engine='python'.\n",
      "  if __name__ == '__main__':\n",
      "/home/ubuntu/anaconda3/envs/tensorflow_p36/lib/python3.6/site-packages/ipykernel/__main__.py:5: ParserWarning: Falling back to the 'python' engine because the 'c' engine does not support regex separators (separators > 1 char and different from '\\s+' are interpreted as regex); you can avoid this warning by specifying engine='python'.\n"
     ]
    }
   ],
   "source": [
    "sub1 = pd.read_csv('submission1.csv',encoding='utf-8',index_col = False, delimiter='\\,',\n",
    "                                 )\n",
    "result1 = sub1.groupby(\"user_id\",as_index=False).apply(lambda x:x.sort_values(\"score\",ascending=False))\n",
    "\n",
    "sub2 = pd.read_csv('submission2.csv',encoding='utf-8',index_col = False, delimiter='\\,',\n",
    "                                 )\n",
    "result2 = sub2.groupby(\"user_id\",as_index=False).apply(lambda x:x.sort_values(\"score\",ascending=False))"
   ]
  },
  {
   "cell_type": "code",
   "execution_count": 9,
   "metadata": {},
   "outputs": [
    {
     "data": {
      "text/plain": [
       "-100.0"
      ]
     },
     "execution_count": 9,
     "metadata": {},
     "output_type": "execute_result"
    }
   ],
   "source": [
    "result1.groupby(\"user_id\")[\"score\"].max().min()"
   ]
  },
  {
   "cell_type": "code",
   "execution_count": 10,
   "metadata": {},
   "outputs": [
    {
     "data": {
      "text/html": [
       "<div>\n",
       "<style scoped>\n",
       "    .dataframe tbody tr th:only-of-type {\n",
       "        vertical-align: middle;\n",
       "    }\n",
       "\n",
       "    .dataframe tbody tr th {\n",
       "        vertical-align: top;\n",
       "    }\n",
       "\n",
       "    .dataframe thead th {\n",
       "        text-align: right;\n",
       "    }\n",
       "</style>\n",
       "<table border=\"1\" class=\"dataframe\">\n",
       "  <thead>\n",
       "    <tr style=\"text-align: right;\">\n",
       "      <th></th>\n",
       "      <th></th>\n",
       "      <th>user_id</th>\n",
       "      <th>jd_no</th>\n",
       "      <th>score</th>\n",
       "    </tr>\n",
       "  </thead>\n",
       "  <tbody>\n",
       "    <tr>\n",
       "      <th rowspan=\"5\" valign=\"top\">0</th>\n",
       "      <th>0</th>\n",
       "      <td>002a5c1d9a6a49a2127bbabe2b1a2f99</td>\n",
       "      <td>aa7eee0e03f628ac98597cfb357a5f4d</td>\n",
       "      <td>0.045854</td>\n",
       "    </tr>\n",
       "    <tr>\n",
       "      <th>1</th>\n",
       "      <td>002a5c1d9a6a49a2127bbabe2b1a2f99</td>\n",
       "      <td>2de05719699a87a5e009cef158b10341</td>\n",
       "      <td>-0.004416</td>\n",
       "    </tr>\n",
       "    <tr>\n",
       "      <th>2</th>\n",
       "      <td>002a5c1d9a6a49a2127bbabe2b1a2f99</td>\n",
       "      <td>33f41c7c7ded4ff4c1eafb61d1b0b13e</td>\n",
       "      <td>-0.032056</td>\n",
       "    </tr>\n",
       "    <tr>\n",
       "      <th>3</th>\n",
       "      <td>002a5c1d9a6a49a2127bbabe2b1a2f99</td>\n",
       "      <td>b9a223fa5d0de6f92aa291483f3214ba</td>\n",
       "      <td>-0.044184</td>\n",
       "    </tr>\n",
       "    <tr>\n",
       "      <th>4</th>\n",
       "      <td>002a5c1d9a6a49a2127bbabe2b1a2f99</td>\n",
       "      <td>dff38c7b1f0d8a6fb106baf05d577b83</td>\n",
       "      <td>-0.054059</td>\n",
       "    </tr>\n",
       "  </tbody>\n",
       "</table>\n",
       "</div>"
      ],
      "text/plain": [
       "                              user_id                             jd_no  \\\n",
       "0 0  002a5c1d9a6a49a2127bbabe2b1a2f99  aa7eee0e03f628ac98597cfb357a5f4d   \n",
       "  1  002a5c1d9a6a49a2127bbabe2b1a2f99  2de05719699a87a5e009cef158b10341   \n",
       "  2  002a5c1d9a6a49a2127bbabe2b1a2f99  33f41c7c7ded4ff4c1eafb61d1b0b13e   \n",
       "  3  002a5c1d9a6a49a2127bbabe2b1a2f99  b9a223fa5d0de6f92aa291483f3214ba   \n",
       "  4  002a5c1d9a6a49a2127bbabe2b1a2f99  dff38c7b1f0d8a6fb106baf05d577b83   \n",
       "\n",
       "        score  \n",
       "0 0  0.045854  \n",
       "  1 -0.004416  \n",
       "  2 -0.032056  \n",
       "  3 -0.044184  \n",
       "  4 -0.054059  "
      ]
     },
     "execution_count": 10,
     "metadata": {},
     "output_type": "execute_result"
    }
   ],
   "source": [
    "result2.head()"
   ]
  },
  {
   "cell_type": "code",
   "execution_count": 11,
   "metadata": {},
   "outputs": [
    {
     "name": "stderr",
     "output_type": "stream",
     "text": [
      "/home/ubuntu/anaconda3/envs/tensorflow_p36/lib/python3.6/site-packages/ipykernel/__main__.py:6: SettingWithCopyWarning: \n",
      "A value is trying to be set on a copy of a slice from a DataFrame.\n",
      "Try using .loc[row_indexer,col_indexer] = value instead\n",
      "\n",
      "See the caveats in the documentation: http://pandas.pydata.org/pandas-docs/stable/indexing.html#indexing-view-versus-copy\n"
     ]
    }
   ],
   "source": [
    "from scipy.stats import rankdata\n",
    "group_data_sub1 = pd.DataFrame(columns=['user_id','jd_no','rank'])\n",
    "\n",
    "for idx, group in result1.groupby(\"user_id\"):\n",
    "    #group['rank']=rankdata(group['score'])/rankdata(group['score']).max(\n",
    "    group['rank'] = group['score'].rank(ascending=True, method='min')/group['score'].rank(ascending=True, method='min').max()\n",
    "    for i in range(0,len(group)):\n",
    "        group_data_sub1 = group_data_sub1.append({'user_id':group['user_id'].values[i],'jd_no':group['jd_no'].values[i],'rank':group['rank'].values[i]},ignore_index=True)     \n",
    "        #print(group_data_sub1)\n",
    "\n"
   ]
  },
  {
   "cell_type": "code",
   "execution_count": 12,
   "metadata": {},
   "outputs": [
    {
     "name": "stderr",
     "output_type": "stream",
     "text": [
      "/home/ubuntu/anaconda3/envs/tensorflow_p36/lib/python3.6/site-packages/ipykernel/__main__.py:5: SettingWithCopyWarning: \n",
      "A value is trying to be set on a copy of a slice from a DataFrame.\n",
      "Try using .loc[row_indexer,col_indexer] = value instead\n",
      "\n",
      "See the caveats in the documentation: http://pandas.pydata.org/pandas-docs/stable/indexing.html#indexing-view-versus-copy\n"
     ]
    },
    {
     "data": {
      "text/html": [
       "<div>\n",
       "<style scoped>\n",
       "    .dataframe tbody tr th:only-of-type {\n",
       "        vertical-align: middle;\n",
       "    }\n",
       "\n",
       "    .dataframe tbody tr th {\n",
       "        vertical-align: top;\n",
       "    }\n",
       "\n",
       "    .dataframe thead th {\n",
       "        text-align: right;\n",
       "    }\n",
       "</style>\n",
       "<table border=\"1\" class=\"dataframe\">\n",
       "  <thead>\n",
       "    <tr style=\"text-align: right;\">\n",
       "      <th></th>\n",
       "      <th>user_id</th>\n",
       "      <th>jd_no</th>\n",
       "      <th>rank</th>\n",
       "    </tr>\n",
       "  </thead>\n",
       "  <tbody>\n",
       "    <tr>\n",
       "      <th>0</th>\n",
       "      <td>002a5c1d9a6a49a2127bbabe2b1a2f99</td>\n",
       "      <td>aa7eee0e03f628ac98597cfb357a5f4d</td>\n",
       "      <td>1.000000</td>\n",
       "    </tr>\n",
       "    <tr>\n",
       "      <th>1</th>\n",
       "      <td>002a5c1d9a6a49a2127bbabe2b1a2f99</td>\n",
       "      <td>2de05719699a87a5e009cef158b10341</td>\n",
       "      <td>0.988095</td>\n",
       "    </tr>\n",
       "    <tr>\n",
       "      <th>2</th>\n",
       "      <td>002a5c1d9a6a49a2127bbabe2b1a2f99</td>\n",
       "      <td>33f41c7c7ded4ff4c1eafb61d1b0b13e</td>\n",
       "      <td>0.976190</td>\n",
       "    </tr>\n",
       "    <tr>\n",
       "      <th>3</th>\n",
       "      <td>002a5c1d9a6a49a2127bbabe2b1a2f99</td>\n",
       "      <td>b9a223fa5d0de6f92aa291483f3214ba</td>\n",
       "      <td>0.964286</td>\n",
       "    </tr>\n",
       "    <tr>\n",
       "      <th>4</th>\n",
       "      <td>002a5c1d9a6a49a2127bbabe2b1a2f99</td>\n",
       "      <td>dff38c7b1f0d8a6fb106baf05d577b83</td>\n",
       "      <td>0.952381</td>\n",
       "    </tr>\n",
       "  </tbody>\n",
       "</table>\n",
       "</div>"
      ],
      "text/plain": [
       "                            user_id                             jd_no  \\\n",
       "0  002a5c1d9a6a49a2127bbabe2b1a2f99  aa7eee0e03f628ac98597cfb357a5f4d   \n",
       "1  002a5c1d9a6a49a2127bbabe2b1a2f99  2de05719699a87a5e009cef158b10341   \n",
       "2  002a5c1d9a6a49a2127bbabe2b1a2f99  33f41c7c7ded4ff4c1eafb61d1b0b13e   \n",
       "3  002a5c1d9a6a49a2127bbabe2b1a2f99  b9a223fa5d0de6f92aa291483f3214ba   \n",
       "4  002a5c1d9a6a49a2127bbabe2b1a2f99  dff38c7b1f0d8a6fb106baf05d577b83   \n",
       "\n",
       "       rank  \n",
       "0  1.000000  \n",
       "1  0.988095  \n",
       "2  0.976190  \n",
       "3  0.964286  \n",
       "4  0.952381  "
      ]
     },
     "execution_count": 12,
     "metadata": {},
     "output_type": "execute_result"
    }
   ],
   "source": [
    "group_data_sub2 = pd.DataFrame(columns=['user_id','jd_no','rank'])\n",
    "\n",
    "for idx, group in result2.groupby(\"user_id\"):\n",
    "    #group['rank']=rankdata(group['score'])/rankdata(group['score']).max(\n",
    "    group['rank'] = group['score'].rank(ascending=True, method='min')/group['score'].rank(ascending=True, method='min').max()\n",
    "    for i in range(0,len(group)):\n",
    "        group_data_sub2 = group_data_sub2.append({'user_id':group['user_id'].values[i],'jd_no':group['jd_no'].values[i],'rank':group['rank'].values[i]},ignore_index=True)     \n",
    "        #print(group_data_sub1)\n",
    "\n",
    "group_data_sub2.head()"
   ]
  },
  {
   "cell_type": "code",
   "execution_count": 13,
   "metadata": {},
   "outputs": [],
   "source": [
    "group_data_table = pd.merge(group_data_sub1,group_data_sub2,how=\"inner\",on=[\"user_id\",\"jd_no\"])"
   ]
  },
  {
   "cell_type": "code",
   "execution_count": 14,
   "metadata": {},
   "outputs": [
    {
     "data": {
      "text/html": [
       "<div>\n",
       "<style scoped>\n",
       "    .dataframe tbody tr th:only-of-type {\n",
       "        vertical-align: middle;\n",
       "    }\n",
       "\n",
       "    .dataframe tbody tr th {\n",
       "        vertical-align: top;\n",
       "    }\n",
       "\n",
       "    .dataframe thead th {\n",
       "        text-align: right;\n",
       "    }\n",
       "</style>\n",
       "<table border=\"1\" class=\"dataframe\">\n",
       "  <thead>\n",
       "    <tr style=\"text-align: right;\">\n",
       "      <th></th>\n",
       "      <th>user_id</th>\n",
       "      <th>jd_no</th>\n",
       "      <th>rank_x</th>\n",
       "      <th>rank_y</th>\n",
       "      <th>rank</th>\n",
       "    </tr>\n",
       "  </thead>\n",
       "  <tbody>\n",
       "    <tr>\n",
       "      <th>0</th>\n",
       "      <td>002a5c1d9a6a49a2127bbabe2b1a2f99</td>\n",
       "      <td>1d920657943c874df4c071d00b59b460</td>\n",
       "      <td>1.000000</td>\n",
       "      <td>0.297619</td>\n",
       "      <td>0.648810</td>\n",
       "    </tr>\n",
       "    <tr>\n",
       "      <th>1</th>\n",
       "      <td>002a5c1d9a6a49a2127bbabe2b1a2f99</td>\n",
       "      <td>aa7eee0e03f628ac98597cfb357a5f4d</td>\n",
       "      <td>0.988095</td>\n",
       "      <td>1.000000</td>\n",
       "      <td>0.994048</td>\n",
       "    </tr>\n",
       "    <tr>\n",
       "      <th>2</th>\n",
       "      <td>002a5c1d9a6a49a2127bbabe2b1a2f99</td>\n",
       "      <td>9d0917fe2aeec95b5b0bb661b24fb7c5</td>\n",
       "      <td>0.976190</td>\n",
       "      <td>0.714286</td>\n",
       "      <td>0.845238</td>\n",
       "    </tr>\n",
       "    <tr>\n",
       "      <th>3</th>\n",
       "      <td>002a5c1d9a6a49a2127bbabe2b1a2f99</td>\n",
       "      <td>832a5f89fa94d34aa63d1c790f250e1e</td>\n",
       "      <td>0.964286</td>\n",
       "      <td>0.916667</td>\n",
       "      <td>0.940476</td>\n",
       "    </tr>\n",
       "    <tr>\n",
       "      <th>4</th>\n",
       "      <td>002a5c1d9a6a49a2127bbabe2b1a2f99</td>\n",
       "      <td>a9b4d47088734fb953fbdf51c46ae827</td>\n",
       "      <td>0.952381</td>\n",
       "      <td>0.011905</td>\n",
       "      <td>0.482143</td>\n",
       "    </tr>\n",
       "  </tbody>\n",
       "</table>\n",
       "</div>"
      ],
      "text/plain": [
       "                            user_id                             jd_no  \\\n",
       "0  002a5c1d9a6a49a2127bbabe2b1a2f99  1d920657943c874df4c071d00b59b460   \n",
       "1  002a5c1d9a6a49a2127bbabe2b1a2f99  aa7eee0e03f628ac98597cfb357a5f4d   \n",
       "2  002a5c1d9a6a49a2127bbabe2b1a2f99  9d0917fe2aeec95b5b0bb661b24fb7c5   \n",
       "3  002a5c1d9a6a49a2127bbabe2b1a2f99  832a5f89fa94d34aa63d1c790f250e1e   \n",
       "4  002a5c1d9a6a49a2127bbabe2b1a2f99  a9b4d47088734fb953fbdf51c46ae827   \n",
       "\n",
       "     rank_x    rank_y      rank  \n",
       "0  1.000000  0.297619  0.648810  \n",
       "1  0.988095  1.000000  0.994048  \n",
       "2  0.976190  0.714286  0.845238  \n",
       "3  0.964286  0.916667  0.940476  \n",
       "4  0.952381  0.011905  0.482143  "
      ]
     },
     "execution_count": 14,
     "metadata": {},
     "output_type": "execute_result"
    }
   ],
   "source": [
    "group_data_table['rank'] = (group_data_table['rank_x']+group_data_table['rank_y'])/2\n",
    "group_data_table.head()"
   ]
  },
  {
   "cell_type": "code",
   "execution_count": 15,
   "metadata": {},
   "outputs": [
    {
     "data": {
      "text/html": [
       "<div>\n",
       "<style scoped>\n",
       "    .dataframe tbody tr th:only-of-type {\n",
       "        vertical-align: middle;\n",
       "    }\n",
       "\n",
       "    .dataframe tbody tr th {\n",
       "        vertical-align: top;\n",
       "    }\n",
       "\n",
       "    .dataframe thead th {\n",
       "        text-align: right;\n",
       "    }\n",
       "</style>\n",
       "<table border=\"1\" class=\"dataframe\">\n",
       "  <thead>\n",
       "    <tr style=\"text-align: right;\">\n",
       "      <th></th>\n",
       "      <th></th>\n",
       "      <th>user_id</th>\n",
       "      <th>jd_no</th>\n",
       "      <th>rank_x</th>\n",
       "      <th>rank_y</th>\n",
       "      <th>rank</th>\n",
       "    </tr>\n",
       "  </thead>\n",
       "  <tbody>\n",
       "    <tr>\n",
       "      <th rowspan=\"5\" valign=\"top\">0</th>\n",
       "      <th>1</th>\n",
       "      <td>002a5c1d9a6a49a2127bbabe2b1a2f99</td>\n",
       "      <td>aa7eee0e03f628ac98597cfb357a5f4d</td>\n",
       "      <td>0.988095</td>\n",
       "      <td>1.000000</td>\n",
       "      <td>0.994048</td>\n",
       "    </tr>\n",
       "    <tr>\n",
       "      <th>3</th>\n",
       "      <td>002a5c1d9a6a49a2127bbabe2b1a2f99</td>\n",
       "      <td>832a5f89fa94d34aa63d1c790f250e1e</td>\n",
       "      <td>0.964286</td>\n",
       "      <td>0.916667</td>\n",
       "      <td>0.940476</td>\n",
       "    </tr>\n",
       "    <tr>\n",
       "      <th>2</th>\n",
       "      <td>002a5c1d9a6a49a2127bbabe2b1a2f99</td>\n",
       "      <td>9d0917fe2aeec95b5b0bb661b24fb7c5</td>\n",
       "      <td>0.976190</td>\n",
       "      <td>0.714286</td>\n",
       "      <td>0.845238</td>\n",
       "    </tr>\n",
       "    <tr>\n",
       "      <th>25</th>\n",
       "      <td>002a5c1d9a6a49a2127bbabe2b1a2f99</td>\n",
       "      <td>b9a223fa5d0de6f92aa291483f3214ba</td>\n",
       "      <td>0.702381</td>\n",
       "      <td>0.964286</td>\n",
       "      <td>0.833333</td>\n",
       "    </tr>\n",
       "    <tr>\n",
       "      <th>11</th>\n",
       "      <td>002a5c1d9a6a49a2127bbabe2b1a2f99</td>\n",
       "      <td>4f31eaaf1629bf822f482be7b2f7a90a</td>\n",
       "      <td>0.785714</td>\n",
       "      <td>0.833333</td>\n",
       "      <td>0.809524</td>\n",
       "    </tr>\n",
       "  </tbody>\n",
       "</table>\n",
       "</div>"
      ],
      "text/plain": [
       "                               user_id                             jd_no  \\\n",
       "0 1   002a5c1d9a6a49a2127bbabe2b1a2f99  aa7eee0e03f628ac98597cfb357a5f4d   \n",
       "  3   002a5c1d9a6a49a2127bbabe2b1a2f99  832a5f89fa94d34aa63d1c790f250e1e   \n",
       "  2   002a5c1d9a6a49a2127bbabe2b1a2f99  9d0917fe2aeec95b5b0bb661b24fb7c5   \n",
       "  25  002a5c1d9a6a49a2127bbabe2b1a2f99  b9a223fa5d0de6f92aa291483f3214ba   \n",
       "  11  002a5c1d9a6a49a2127bbabe2b1a2f99  4f31eaaf1629bf822f482be7b2f7a90a   \n",
       "\n",
       "        rank_x    rank_y      rank  \n",
       "0 1   0.988095  1.000000  0.994048  \n",
       "  3   0.964286  0.916667  0.940476  \n",
       "  2   0.976190  0.714286  0.845238  \n",
       "  25  0.702381  0.964286  0.833333  \n",
       "  11  0.785714  0.833333  0.809524  "
      ]
     },
     "execution_count": 15,
     "metadata": {},
     "output_type": "execute_result"
    }
   ],
   "source": [
    "result = group_data_table.groupby(\"user_id\",as_index=False).apply(lambda x:x.sort_values(\"rank\",ascending=False))\n",
    "result.head()"
   ]
  },
  {
   "cell_type": "code",
   "execution_count": 16,
   "metadata": {},
   "outputs": [],
   "source": [
    "result[[\"user_id\",\"jd_no\"]].to_csv(\"submission3_vivi.csv\",index=False)"
   ]
  },
  {
   "cell_type": "code",
   "execution_count": null,
   "metadata": {},
   "outputs": [],
   "source": []
  }
 ],
 "metadata": {
  "kernelspec": {
   "display_name": "Environment (conda_tensorflow_p36)",
   "language": "python",
   "name": "conda_tensorflow_p36"
  },
  "language_info": {
   "codemirror_mode": {
    "name": "ipython",
    "version": 3
   },
   "file_extension": ".py",
   "mimetype": "text/x-python",
   "name": "python",
   "nbconvert_exporter": "python",
   "pygments_lexer": "ipython3",
   "version": "3.6.5"
  }
 },
 "nbformat": 4,
 "nbformat_minor": 2
}
