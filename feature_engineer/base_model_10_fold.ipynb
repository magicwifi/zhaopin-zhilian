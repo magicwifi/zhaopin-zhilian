{
 "cells": [
  {
   "cell_type": "code",
   "execution_count": 1,
   "metadata": {},
   "outputs": [],
   "source": [
    "# coding:utf-8\n",
    "import numpy as np\n",
    "import pandas as pd\n",
    "from pandas import Series, DataFrame\n",
    "\n",
    "import matplotlib.pyplot as plt\n",
    "\n",
    "from sklearn.model_selection import train_test_split\n",
    "\n",
    "\n",
    "%matplotlib inline\n"
   ]
  },
  {
   "cell_type": "code",
   "execution_count": 2,
   "metadata": {},
   "outputs": [
    {
     "name": "stderr",
     "output_type": "stream",
     "text": [
      "b'Skipping line 173315: expected 18 fields, saw 20\\n'\n",
      "/home/ubuntu/anaconda3/envs/tensorflow_p36/lib/python3.6/site-packages/IPython/core/interactiveshell.py:2785: DtypeWarning: Columns (8,9) have mixed types. Specify dtype option on import or set low_memory=False.\n",
      "  interactivity=interactivity, compiler=compiler, result=result)\n"
     ]
    }
   ],
   "source": [
    "train_user = pd.read_csv('data/table1_user',encoding='utf-8',index_col = False, delimiter='\\t',\n",
    "                                 )\n",
    "train_user['cur_jd_type'] = train_user['cur_jd_type'].astype(str)\n",
    "train_user.loc[train_user['cur_jd_type']=='nan',['cur_jd_type']] = '无业'\n",
    "train_job = pd.read_csv(\"data/table2_jd\",delimiter=\"\\t\",error_bad_lines=False)\n",
    "train_action = pd.read_csv(\"data/table3_action\",delimiter=\"\\t\")\n",
    "test_action = pd.read_csv(\"data/zhaopin_round1_user_exposure_B_20190819\",delim_whitespace=True)\n",
    "test_user = pd.read_csv(\"data/user_ToBePredicted\",delimiter=\"\\t\")\n",
    "test_user['cur_jd_type'] = test_user['cur_jd_type'].astype(str)\n",
    "test_user.loc[test_user['cur_jd_type']=='nan',['cur_jd_type']] = '无业'\n",
    "train_action['mix_sat']  = train_action['satisfied']*10+train_action['delivered']*3\n",
    "train_action.loc[train_action.mix_sat==13,'mix_sat'] =10"
   ]
  },
  {
   "cell_type": "code",
   "execution_count": 3,
   "metadata": {},
   "outputs": [],
   "source": [
    "train_big_table = pd.merge(train_action,train_user,how=\"inner\",on=\"user_id\")\n",
    "train_big_table = pd.merge(train_big_table,train_job,how=\"inner\",on=\"jd_no\")\n",
    "test_big_table = pd.merge(test_action,test_user,how=\"inner\",on=\"user_id\")\n",
    "test_big_table = pd.merge(test_big_table,train_job,how=\"inner\",on=\"jd_no\")\n",
    "train_big_table.drop_duplicates(inplace=True)\n",
    "test_big_table.drop_duplicates(inplace=True)"
   ]
  },
  {
   "cell_type": "code",
   "execution_count": 4,
   "metadata": {},
   "outputs": [],
   "source": [
    "jd_sub_action_series = train_big_table.groupby(['jd_sub_type'])['browsed'].count()\n",
    "jd_sub_action =pd.DataFrame({'jd_sub_type':jd_sub_action_series.index, 'jd_sub_pos_cont':jd_sub_action_series.values})\n",
    "jd_sub_action['jd_sub_browsed_rate'] = train_big_table.groupby(['jd_sub_type'])['browsed'].mean().values\n",
    "jd_sub_action['jd_sub_delivered_rate'] = train_big_table.groupby(['jd_sub_type'])['delivered'].mean().values\n",
    "jd_sub_action['jd_sub_satisfied_rate'] = train_big_table.groupby(['jd_sub_type'])['satisfied'].mean().values\n",
    "jd_sub_action['jd_sub_satisfied_cont'] = train_big_table.groupby(['jd_sub_type'])['satisfied'].sum().values\n",
    "jd_sub_action['jd_sub_delivered_cont'] = train_big_table.groupby(['jd_sub_type'])['delivered'].sum().values\n",
    "jd_sub_action['jd_sub_browsed_cont'] = train_big_table.groupby(['jd_sub_type'])['browsed'].sum().values\n",
    "jd_sub_action['jd_sub_satisfied_conv_rate'] = jd_sub_action['jd_sub_satisfied_cont'] / jd_sub_action['jd_sub_delivered_cont']\n",
    "jd_sub_action['jd_sub_delivered_conv_rate'] = jd_sub_action['jd_sub_delivered_cont'] / jd_sub_action['jd_sub_browsed_cont']\n",
    "jd_sub_action.loc[jd_sub_action['jd_sub_satisfied_conv_rate'].isnull(),'jd_sub_satisfied_conv_rate']=0\n",
    "jd_sub_action.loc[jd_sub_action['jd_sub_delivered_conv_rate'].isnull(),'jd_sub_delivered_conv_rate']=0\n",
    "train_big_table = pd.merge(train_big_table,jd_sub_action,how=\"left\",on=\"jd_sub_type\")\n",
    "test_big_table = pd.merge(test_big_table,jd_sub_action,how=\"left\",on=\"jd_sub_type\")"
   ]
  },
  {
   "cell_type": "code",
   "execution_count": 5,
   "metadata": {},
   "outputs": [
    {
     "data": {
      "text/html": [
       "<div>\n",
       "<style scoped>\n",
       "    .dataframe tbody tr th:only-of-type {\n",
       "        vertical-align: middle;\n",
       "    }\n",
       "\n",
       "    .dataframe tbody tr th {\n",
       "        vertical-align: top;\n",
       "    }\n",
       "\n",
       "    .dataframe thead th {\n",
       "        text-align: right;\n",
       "    }\n",
       "</style>\n",
       "<table border=\"1\" class=\"dataframe\">\n",
       "  <thead>\n",
       "    <tr style=\"text-align: right;\">\n",
       "      <th></th>\n",
       "      <th>user_id</th>\n",
       "      <th>jd_no</th>\n",
       "      <th>live_city_id</th>\n",
       "      <th>desire_jd_city_id</th>\n",
       "      <th>desire_jd_industry_id</th>\n",
       "      <th>desire_jd_type_id</th>\n",
       "      <th>desire_jd_salary_id</th>\n",
       "      <th>cur_industry_id</th>\n",
       "      <th>cur_jd_type</th>\n",
       "      <th>cur_salary_id</th>\n",
       "      <th>...</th>\n",
       "      <th>job_description</th>\n",
       "      <th>jd_sub_pos_cont</th>\n",
       "      <th>jd_sub_browsed_rate</th>\n",
       "      <th>jd_sub_delivered_rate</th>\n",
       "      <th>jd_sub_satisfied_rate</th>\n",
       "      <th>jd_sub_satisfied_cont</th>\n",
       "      <th>jd_sub_delivered_cont</th>\n",
       "      <th>jd_sub_browsed_cont</th>\n",
       "      <th>jd_sub_satisfied_conv_rate</th>\n",
       "      <th>jd_sub_delivered_conv_rate</th>\n",
       "    </tr>\n",
       "  </thead>\n",
       "  <tbody>\n",
       "  </tbody>\n",
       "</table>\n",
       "<p>0 rows × 40 columns</p>\n",
       "</div>"
      ],
      "text/plain": [
       "Empty DataFrame\n",
       "Columns: [user_id, jd_no, live_city_id, desire_jd_city_id, desire_jd_industry_id, desire_jd_type_id, desire_jd_salary_id, cur_industry_id, cur_jd_type, cur_salary_id, cur_degree_id, birthday, start_work_date, experience, jd_title, company_name, city, jd_sub_type, require_nums, max_salary, min_salary, start_date, end_date, is_travel, min_years, key, min_edu_level, max_edu_level, is_mangerial, resume_language_required, job_description, jd_sub_pos_cont, jd_sub_browsed_rate, jd_sub_delivered_rate, jd_sub_satisfied_rate, jd_sub_satisfied_cont, jd_sub_delivered_cont, jd_sub_browsed_cont, jd_sub_satisfied_conv_rate, jd_sub_delivered_conv_rate]\n",
       "Index: []\n",
       "\n",
       "[0 rows x 40 columns]"
      ]
     },
     "execution_count": 5,
     "metadata": {},
     "output_type": "execute_result"
    }
   ],
   "source": [
    "test_big_table.loc[test_big_table['jd_sub_type']=='杂工',['jd_sub_pos_cont','jd_sub_browsed_rate','jd_sub_delivered_rate','jd_sub_satisfied_rate','jd_sub_satisfied_conv_rate','jd_sub_delivered_conv_rate']] = 32,0.125000,0.031250,0.031250,1.000000,0.250000\n",
    "test_big_table.loc[test_big_table['jd_sub_type']=='包装工程师',['jd_sub_pos_cont','jd_sub_browsed_rate','jd_sub_delivered_rate','jd_sub_satisfied_rate','jd_sub_satisfied_conv_rate','jd_sub_delivered_conv_rate']] = 9,0.333333,0.000000,0.000000,0.000000,0.500000\n",
    "test_big_table.loc[test_big_table['jd_sub_type']=='样衣工',['jd_sub_pos_cont','jd_sub_browsed_rate','jd_sub_delivered_rate','jd_sub_satisfied_rate','jd_sub_satisfied_conv_rate','jd_sub_delivered_conv_rate']] = 9,0.333333,0.000000,0.000000,0.000000,0.500000\n",
    "test_big_table.loc[test_big_table['jd_sub_type']=='行李员',['jd_sub_pos_cont','jd_sub_browsed_rate','jd_sub_delivered_rate','jd_sub_satisfied_rate','jd_sub_satisfied_conv_rate','jd_sub_delivered_conv_rate']] = 32,0.125000,0.031250,0.031250,1.000000,0.250000\n",
    "\n",
    "test_big_table[test_big_table['jd_sub_pos_cont'].isnull()]"
   ]
  },
  {
   "cell_type": "code",
   "execution_count": 6,
   "metadata": {},
   "outputs": [],
   "source": [
    "cur_jd_action_series = train_big_table.groupby(['cur_jd_type'])['browsed'].count()\n",
    "cur_jd_action =pd.DataFrame({'cur_jd_type':cur_jd_action_series.index, 'cur_jd_pos_cont':cur_jd_action_series.values})\n",
    "cur_jd_action['cur_jd_browsed_rate'] = train_big_table.groupby(['cur_jd_type'])['browsed'].mean().values\n",
    "cur_jd_action['cur_jd_delivered_rate'] = train_big_table.groupby(['cur_jd_type'])['delivered'].mean().values\n",
    "cur_jd_action['cur_jd_satisfied_rate'] = train_big_table.groupby(['cur_jd_type'])['satisfied'].mean().values\n",
    "cur_jd_action['cur_jd_satisfied_cont'] = train_big_table.groupby(['cur_jd_type'])['satisfied'].sum().values\n",
    "cur_jd_action['cur_jd_delivered_cont'] = train_big_table.groupby(['cur_jd_type'])['delivered'].sum().values\n",
    "cur_jd_action['cur_jd_browsed_cont'] = train_big_table.groupby(['cur_jd_type'])['browsed'].sum().values\n",
    "cur_jd_action['cur_jd_satisfied_conv_rate'] = cur_jd_action['cur_jd_satisfied_cont'] / cur_jd_action['cur_jd_delivered_cont']\n",
    "cur_jd_action['cur_jd_delivered_conv_rate'] = cur_jd_action['cur_jd_delivered_cont'] / cur_jd_action['cur_jd_browsed_cont']\n",
    "\n",
    "cur_jd_action.loc[cur_jd_action['cur_jd_satisfied_conv_rate'].isnull(),'cur_jd_satisfied_conv_rate']=0\n",
    "cur_jd_action.loc[cur_jd_action['cur_jd_delivered_conv_rate'].isnull(),'cur_jd_delivered_conv_rate']=0\n",
    "\n",
    "test_big_table = pd.merge(test_big_table,cur_jd_action,how=\"left\",on=\"cur_jd_type\")\n",
    "train_big_table = pd.merge(train_big_table,cur_jd_action,how=\"left\",on=\"cur_jd_type\")\n",
    "\n"
   ]
  },
  {
   "cell_type": "code",
   "execution_count": 7,
   "metadata": {},
   "outputs": [
    {
     "data": {
      "text/plain": [
       "Series([], Name: cur_jd_type, dtype: object)"
      ]
     },
     "execution_count": 7,
     "metadata": {},
     "output_type": "execute_result"
    }
   ],
   "source": [
    "test_big_table.loc[test_big_table['cur_jd_type']=='财务主管/总帐主管',['cur_jd_pos_cont','cur_jd_browsed_rate','cur_jd_delivered_rate','cur_jd_satisfied_rate','cur_jd_satisfied_conv_rate','cur_jd_delivered_conv_rate']] = 172,0.180233,0.063953,0.023256,0.363636,0.354839\n",
    "test_big_table.loc[test_big_table['cur_jd_type']=='汽车制造',['cur_jd_pos_cont','cur_jd_browsed_rate','cur_jd_delivered_rate','cur_jd_satisfied_rate','cur_jd_satisfied_conv_rate','cur_jd_delivered_conv_rate']] = 734,0.247956,0.141689,0.040872,0.288462,0.571429\n",
    "test_big_table.loc[test_big_table['cur_jd_type']=='首席执行官CEO/总裁/总经理',['cur_jd_pos_cont','cur_jd_browsed_rate','cur_jd_delivered_rate','cur_jd_satisfied_rate','cur_jd_satisfied_conv_rate','cur_jd_delivered_conv_rate']] = 93,0.301075,0.118280,0.086022,0.727273,0.392857\n",
    "test_big_table.loc[test_big_table['cur_jd_type']=='储备干部',['cur_jd_pos_cont','cur_jd_browsed_rate','cur_jd_delivered_rate','cur_jd_satisfied_rate','cur_jd_satisfied_conv_rate','cur_jd_delivered_conv_rate']] = 1785,0.243697,0.093557,0.054902,0.586826,0.383908\n",
    "test_big_table.loc[test_big_table['cur_jd_type']=='会务专员/助理',['cur_jd_pos_cont','cur_jd_browsed_rate','cur_jd_delivered_rate','cur_jd_satisfied_rate','cur_jd_satisfied_conv_rate','cur_jd_delivered_conv_rate']] = 386,0.318653,0.038860,0.038860,1.000000,0.121951\n",
    "\n",
    "test_big_table.loc[test_big_table['cur_jd_type']=='化妆师/造型师/服装/道具',['cur_jd_pos_cont','cur_jd_browsed_rate','cur_jd_delivered_rate','cur_jd_satisfied_rate','cur_jd_satisfied_conv_rate','cur_jd_delivered_conv_rate']] = train_big_table[train_big_table['jd_sub_type'].str.contains('化妆')][['cur_jd_pos_cont','cur_jd_browsed_rate','cur_jd_delivered_rate','cur_jd_satisfied_rate','cur_jd_satisfied_conv_rate','cur_jd_delivered_conv_rate']].values[0]\n",
    "test_big_table[test_big_table['cur_jd_pos_cont'].isnull()]['cur_jd_type']\n"
   ]
  },
  {
   "cell_type": "code",
   "execution_count": 8,
   "metadata": {},
   "outputs": [],
   "source": [
    "train_big_table['start_date'].fillna('na',inplace=True)\n",
    "test_big_table['start_date'].fillna('na',inplace=True)\n",
    "train_big_table['end_date'].fillna('na',inplace=True)\n",
    "test_big_table['end_date'].fillna('na',inplace=True)\n",
    "train_big_table['start_date'] = train_big_table['start_date'].astype(str)\n",
    "train_big_table['end_date'] = train_big_table['end_date'].astype(str)\n",
    "test_big_table['start_date'] = test_big_table['start_date'].astype(str)\n",
    "test_big_table['end_date'] = test_big_table['end_date'].astype(str)"
   ]
  },
  {
   "cell_type": "code",
   "execution_count": 9,
   "metadata": {},
   "outputs": [],
   "source": [
    "from datetime import datetime\n",
    "\n",
    "def remain_date(x):\n",
    "    if  'N' in x :\n",
    "        return 99999;\n",
    "    elif 'na' in x:\n",
    "        return -1\n",
    "    else:\n",
    "        d1 = datetime.strptime('20190327', \"%Y%m%d\")\n",
    "        d2 = datetime.strptime(x, \"%Y%m%d\")\n",
    "        return abs((d2 - d1).days)\n",
    "    \n",
    "train_big_table['remain_date'] = train_big_table['end_date'].apply(remain_date)\n",
    "test_big_table['remain_date'] = test_big_table['end_date'].apply(remain_date)"
   ]
  },
  {
   "cell_type": "code",
   "execution_count": 10,
   "metadata": {},
   "outputs": [],
   "source": [
    "def month_convert(x):\n",
    "    if  'N' in x:\n",
    "        return -1;\n",
    "    elif 'na' in x:\n",
    "        return -1\n",
    "    else:\n",
    "        if int(x[0:6])< 201804:\n",
    "            return '201804'\n",
    "        else:\n",
    "            return x[0:6]\n",
    "\n",
    "train_big_table['start_month'] = train_big_table['start_date'].apply(month_convert)\n",
    "test_big_table['start_month'] = test_big_table['start_date'].apply(month_convert)"
   ]
  },
  {
   "cell_type": "code",
   "execution_count": 11,
   "metadata": {},
   "outputs": [],
   "source": [
    "def extract_city(citys,index):\n",
    "    city_list = citys.split(\",\")\n",
    "    if index < len(city_list):\n",
    "        city = city_list[index]\n",
    "        if city != \"-\":\n",
    "            city = int(city)\n",
    "        else:\n",
    "            city = -1\n",
    "    else:\n",
    "        city = -1\n",
    "    return city\n",
    "\n",
    "def exp_in_desc(exp,desc):\n",
    "    if str(exp) == \"nan\":\n",
    "        exp = \"\"\n",
    "    exps = exp.split(\"|\")\n",
    "    num = 0\n",
    "    for item in exps:\n",
    "        if item in desc:\n",
    "            num+=1\n",
    "    return num"
   ]
  },
  {
   "cell_type": "code",
   "execution_count": 12,
   "metadata": {},
   "outputs": [],
   "source": [
    "min_year_dict = {\n",
    "    305: 4,\n",
    "    -1:-1,\n",
    "    1:1,\n",
    "    103:2,\n",
    "    0:0,\n",
    "    510:7,\n",
    "    1099:10,\n",
    "    399:4,\n",
    "    599:7,\n",
    "    199:1,\n",
    "    299:2,\n",
    "    110:1\n",
    "}\n",
    "degree_dict = {\n",
    "    \"初中\":1,\n",
    "    \"中技\":2,\n",
    "    \"高中\":3,\n",
    "    \"中专\":3,\n",
    "    \"大专\":4,\n",
    "    \"本科\":5,\n",
    "    \"硕士\":6,\n",
    "    \"博士\":7,\n",
    "    \"EMBA\":7,\n",
    "    \"MBA\":6,\n",
    "    \"其他\":0,\n",
    "    \"请选择\":0,\n",
    "    \"\\\\N\":0,\n",
    "    \"na\":0\n",
    "}\n",
    "min_salary_dict = {\n",
    "    100002000:1000,\n",
    "    400106000:4001,\n",
    "    0:0,\n",
    "    200104000:2001,\n",
    "    600108000:6001,\n",
    "    800110000:8001,\n",
    "    1000115000:10001,\n",
    "    2500199999:25001,\n",
    "    1500125000:15001,\n",
    "    3500150000:35001,\n",
    "    70001100000:70001,\n",
    "    1000:0,\n",
    "    100001150000:100001,\n",
    "    2500135000:25001,\n",
    "    5000170000:50001\n",
    "}\n",
    "max_salary_dict = {\n",
    "    100002000:2000,\n",
    "    400106000:6000,\n",
    "    0:0,\n",
    "    200104000:4000,\n",
    "    600108000:8000,\n",
    "    800110000:10000,\n",
    "    1000115000:15000,\n",
    "    2500199999:99999,\n",
    "    1500125000:25000,\n",
    "    3500150000:50000,\n",
    "    70001100000:100000,\n",
    "    1000:1000,\n",
    "    100001150000:150000,\n",
    "    2500135000:35000,\n",
    "    5000170000:70000\n",
    "}"
   ]
  },
  {
   "cell_type": "code",
   "execution_count": 13,
   "metadata": {},
   "outputs": [],
   "source": [
    "from functools import partial\n",
    "def fe(df):\n",
    "    df[\"desire_jd_city_1\"] = df[\"desire_jd_city_id\"].apply(partial(extract_city,index=0))\n",
    "    df[\"desire_jd_city_2\"] = df[\"desire_jd_city_id\"].apply(partial(extract_city,index=1))\n",
    "    df[\"desire_jd_city_3\"] = df[\"desire_jd_city_id\"].apply(partial(extract_city,index=2))\n",
    "    df[\"desire_jd_city_num\"] = df[[\"desire_jd_city_1\",\"desire_jd_city_2\",\"desire_jd_city_3\"]].sum(axis=1)\n",
    "    \n",
    "    df[\"city_equal_desired_city_1\"] = df[\"desire_jd_city_1\"]==df[\"city\"]\n",
    "    df[\"city_equal_desired_city_2\"] = df[\"desire_jd_city_2\"]==df[\"city\"]\n",
    "    df[\"city_equal_desired_city_3\"] = df[\"desire_jd_city_3\"]==df[\"city\"]\n",
    "    \n",
    "    df[\"work_years\"] = 2019-df[\"start_work_date\"].apply(lambda x : 2018 if x==\"-\" else int(x))\n",
    "    \n",
    "    \n",
    "    df[\"desire_min_salary\"] = df[\"desire_jd_salary_id\"].apply(lambda x: min_salary_dict[x])\n",
    "    df[\"desire_max_salary\"] = df[\"desire_jd_salary_id\"].apply(lambda x: max_salary_dict[x])\n",
    "    df[\"desire_salary_diff\"] = df[\"desire_max_salary\"]-df[\"desire_min_salary\"]\n",
    "    \n",
    "    df[\"min_years\"] = df[\"min_years\"].apply(lambda x: min_year_dict[x])\n",
    "    \n",
    "    df[\"work_years_statisfied\"] = df[\"work_years\"].astype(int) > df[\"min_years\"]\n",
    "    \n",
    "    df[\"salary_large_than_desire\"] = df[\"desire_min_salary\"] > df[\"min_salary\"]\n",
    "    \n",
    "    df[\"cur_salary_min\"] = df[\"cur_salary_id\"].apply(lambda x: min_salary_dict[int(x if str.isnumeric(x) else \"0\")])\n",
    "    df[\"cur_salary_max\"] = df[\"cur_salary_id\"].apply(lambda x: max_salary_dict[int(x if str.isnumeric(x) else \"0\")])\n",
    "    \n",
    "    df[\"salary_large_than_cur\"] = df[\"cur_salary_min\"] > df[\"min_salary\"]\n",
    "    \n",
    "    df[\"cur_degree_id\"] = df[\"cur_degree_id\"].fillna(\"na\").apply(lambda x:degree_dict[x.strip()])\n",
    "    \n",
    "    df[\"job_description_len\"] = df[\"job_description\"].apply(len)\n",
    "    \n",
    "    df[\"experience_num\"] = df[\"experience\"].apply(lambda x: len(str(x).split(\"|\")) if str(x) != \"nan\" else 0)\n",
    "    \n",
    "    df[\"min_edu_level\"] = df[\"min_edu_level\"].fillna(\"na\").apply(lambda x:degree_dict[x.strip()])\n",
    "    exp_in_desc_num = []\n",
    "    for idx, data in df.iterrows():\n",
    "        exp_in_desc_num.append(exp_in_desc(data[\"experience\"],data[\"job_description\"]))\n",
    "    df[\"exp_in_desc_num\"] = exp_in_desc_num\n",
    "    \n",
    "#     \"live_city_id\",\"desire_jd_salary_id\",\"cur_industry_id\",\"cur_jd_type\",\"cur_salary_id\",\n",
    "#          \"cur_degree_id\",\"city\",\"jd_sub_type\",\n",
    "#          \"max_salary\",\"min_salary\",\"is_travel\",\"min_years\",\"min_edu_level\",\n",
    "#          \"desire_jd_city_1\",\"desire_jd_city_2\",\"desire_jd_city_3\",\"work_years_statisfied\"\n",
    "#  \"jd_sub_browsed_dicret\",\"jd_sub_delivered_dicret\",\"jd_sub_satisfied_dicret\"  \n",
    "    cross_feature_tuple = [(\"live_city_id\",\"city\"),(\"live_city_id\",\"desire_jd_city_1\"),(\"cur_industry_id\",\"jd_sub_type\"),\n",
    "                          (\"cur_jd_type\",\"jd_sub_type\"),(\"cur_salary_id\",\"cur_degree_id\"),(\"city\",\"jd_sub_type\"),\n",
    "                          (\"jd_sub_type\",\"min_salary\"),(\"jd_sub_type\",\"max_salary\"),(\"jd_sub_type\",\"is_travel\"),\n",
    "                          (\"min_years\",\"jd_sub_type\"),(\"jd_sub_type\",\"require_nums\"),\n",
    "                          ]\n",
    "    cross_feature_names = list(feature[0]+\"&\"+feature[1] for feature in cross_feature_tuple)\n",
    "    print(\"create cross features\",cross_feature_names)\n",
    "    for idx,(fa,fb) in enumerate(cross_feature_tuple):\n",
    "        df[cross_feature_names[idx]] = df[fa].astype(str)+df[fb].astype(str)\n",
    "    return cross_feature_names"
   ]
  },
  {
   "cell_type": "code",
   "execution_count": 14,
   "metadata": {},
   "outputs": [
    {
     "name": "stdout",
     "output_type": "stream",
     "text": [
      "create cross features ['live_city_id&city', 'live_city_id&desire_jd_city_1', 'cur_industry_id&jd_sub_type', 'cur_jd_type&jd_sub_type', 'cur_salary_id&cur_degree_id', 'city&jd_sub_type', 'jd_sub_type&min_salary', 'jd_sub_type&max_salary', 'jd_sub_type&is_travel', 'min_years&jd_sub_type', 'jd_sub_type&require_nums']\n",
      "create cross features ['live_city_id&city', 'live_city_id&desire_jd_city_1', 'cur_industry_id&jd_sub_type', 'cur_jd_type&jd_sub_type', 'cur_salary_id&cur_degree_id', 'city&jd_sub_type', 'jd_sub_type&min_salary', 'jd_sub_type&max_salary', 'jd_sub_type&is_travel', 'min_years&jd_sub_type', 'jd_sub_type&require_nums']\n"
     ]
    },
    {
     "data": {
      "text/plain": [
       "['live_city_id&city',\n",
       " 'live_city_id&desire_jd_city_1',\n",
       " 'cur_industry_id&jd_sub_type',\n",
       " 'cur_jd_type&jd_sub_type',\n",
       " 'cur_salary_id&cur_degree_id',\n",
       " 'city&jd_sub_type',\n",
       " 'jd_sub_type&min_salary',\n",
       " 'jd_sub_type&max_salary',\n",
       " 'jd_sub_type&is_travel',\n",
       " 'min_years&jd_sub_type',\n",
       " 'jd_sub_type&require_nums']"
      ]
     },
     "execution_count": 14,
     "metadata": {},
     "output_type": "execute_result"
    }
   ],
   "source": [
    "cross_feature_names = fe(train_big_table)\n",
    "fe(test_big_table)"
   ]
  },
  {
   "cell_type": "code",
   "execution_count": 15,
   "metadata": {},
   "outputs": [
    {
     "name": "stderr",
     "output_type": "stream",
     "text": [
      "/home/ubuntu/anaconda3/envs/tensorflow_p36/lib/python3.6/site-packages/ipykernel/__main__.py:1: FutureWarning: Sorting because non-concatenation axis is not aligned. A future version\n",
      "of pandas will change to not sort by default.\n",
      "\n",
      "To accept the future behavior, pass 'sort=False'.\n",
      "\n",
      "To retain the current behavior and silence the warning, pass 'sort=True'.\n",
      "\n",
      "  if __name__ == '__main__':\n"
     ]
    }
   ],
   "source": [
    "all_big_table = pd.concat([train_big_table,test_big_table])"
   ]
  },
  {
   "cell_type": "code",
   "execution_count": 16,
   "metadata": {},
   "outputs": [],
   "source": [
    "from sklearn.preprocessing import LabelEncoder\n",
    "from tqdm import tqdm as tqdm\n",
    "import lightgbm as lgb"
   ]
  },
  {
   "cell_type": "code",
   "execution_count": 17,
   "metadata": {},
   "outputs": [],
   "source": [
    "def feature_select(target,*df_list):\n",
    "    result = []\n",
    "    cat_features = [\"live_city_id\",\"desire_jd_salary_id\",\"cur_industry_id\",\"cur_jd_type\",\"cur_salary_id\",\n",
    "         \"cur_degree_id\",\"city\",\"jd_sub_type\",\"start_month\",\n",
    "         \"max_salary\",\"min_salary\",\"is_travel\",\"min_years\",\"min_edu_level\",\n",
    "         \"desire_jd_city_1\",\"desire_jd_city_2\",\"desire_jd_city_3\",\"work_years_statisfied\"]+cross_feature_names\n",
    "    lbl_dict = {}\n",
    "    for f in cat_features:\n",
    "        lbl = LabelEncoder()\n",
    "        lbl.fit(all_big_table[f].astype(str))\n",
    "        lbl_dict[f] = lbl\n",
    "    for df in df_list:\n",
    "        features = [\"live_city_id\",\"desire_jd_salary_id\",\"cur_industry_id\",\"cur_jd_type\",\"cur_salary_id\",\n",
    "             \"cur_degree_id\",\"birthday\",\"city\",\"jd_sub_type\",\"require_nums\",\"cur_jd_browsed_rate\",\n",
    "                    \"cur_jd_delivered_rate\",\"cur_jd_satisfied_rate\",\n",
    "                    \"jd_sub_browsed_rate\",\n",
    "                    \"jd_sub_delivered_rate\",\"jd_sub_satisfied_rate\",\n",
    "                    \"start_month\",\n",
    "             \"max_salary\",\"min_salary\",\"is_travel\",\"min_years\",\"min_edu_level\",\n",
    "             \"desire_jd_city_1\",\"desire_jd_city_2\",\"desire_jd_city_3\",\"exp_in_desc_num\",\n",
    "                   \"desire_min_salary\",\"desire_max_salary\",\"salary_large_than_desire\",\"cur_salary_min\",\n",
    "                   \"cur_salary_max\",\"salary_large_than_cur\",\"job_description_len\",\"experience_num\",\"work_years_statisfied\",\"work_years\",\"desire_jd_city_num\",\"desire_salary_diff\"]+cross_feature_names\n",
    "\n",
    "        x = df[features]\n",
    "        if target in df.columns:\n",
    "            y = df[target]\n",
    "        else:\n",
    "            y = None\n",
    "        for f in cat_features:\n",
    "            lbl = lbl_dict[f]\n",
    "            x[f] = lbl.transform(x[f].astype(str))\n",
    "        result.append((x,y))\n",
    "    return result\n"
   ]
  },
  {
   "cell_type": "code",
   "execution_count": 18,
   "metadata": {},
   "outputs": [],
   "source": [
    "from sklearn.model_selection import KFold\n",
    "\n",
    "def cross_validate(param=dict(n_estimators=1000,metric=\"map\",colsample_bytree=0.2,max_depth=7,importance_type=\"gain\",device=\"gpu\",gpu_platform_id=0,gpu_device_id=0)\n",
    "                   ,n_folds=5,target=\"mix_sat\"):\n",
    "    train_users = train_big_table[\"user_id\"].unique()\n",
    "    folds = KFold(n_folds,shuffle=True,random_state=42)\n",
    "    models = []\n",
    "    test_pred = np.zeros(test_big_table.shape[0])\n",
    "    scores = []\n",
    "    for idx,(train_idx,valid_idx) in enumerate(folds.split(train_users)):\n",
    "        t_user = train_users[train_idx]\n",
    "        v_user = train_users[valid_idx]\n",
    "        train_data = train_big_table[train_big_table[\"user_id\"].isin(t_user)]\n",
    "        valid_data = train_big_table[train_big_table[\"user_id\"].isin(v_user)]\n",
    "        train_group = train_data.groupby(\"user_id\",as_index=False).count()[\"mix_sat\"].values\n",
    "        valid_group = valid_data.groupby(\"user_id\",as_index=False).count()[\"mix_sat\"].values\n",
    "        test_group = test_big_table.groupby(\"user_id\",as_index=False).count()[\"jd_no\"].values\n",
    "        \n",
    "        result = feature_select(target,train_data,valid_data,test_big_table)\n",
    "        t_x,t_y = result[0]\n",
    "        v_x,v_y = result[1]\n",
    "        test_x,_ = result[2]\n",
    "        model = lgb.LGBMRanker(**param)\n",
    "        print(\"Fold\",idx,\"-\"*30)\n",
    "        model.fit(t_x,t_y,group=train_group,eval_set=[(t_x,t_y),(v_x,v_y)],eval_group=[train_group,valid_group],early_stopping_rounds=100,verbose=10,\n",
    "                  callbacks=[lgb.reset_parameter(learning_rate=lambda x: 0.03)]\n",
    "                 )\n",
    "        models.append(model)\n",
    "        test_pred += model.predict(test_x)/n_folds\n",
    "        scores.append(model.best_score_[\"valid_1\"][\"map@1\"])\n",
    "    print(\"mean score\",np.mean(scores))\n",
    "    return models,test_pred"
   ]
  },
  {
   "cell_type": "code",
   "execution_count": 19,
   "metadata": {},
   "outputs": [
    {
     "data": {
      "text/plain": [
       "(506175, 85)"
      ]
     },
     "execution_count": 19,
     "metadata": {},
     "output_type": "execute_result"
    }
   ],
   "source": [
    "train_big_table.shape"
   ]
  },
  {
   "cell_type": "code",
   "execution_count": 20,
   "metadata": {},
   "outputs": [
    {
     "name": "stderr",
     "output_type": "stream",
     "text": [
      "/home/ubuntu/anaconda3/envs/tensorflow_p36/lib/python3.6/site-packages/ipykernel/__main__.py:31: SettingWithCopyWarning: \n",
      "A value is trying to be set on a copy of a slice from a DataFrame.\n",
      "Try using .loc[row_indexer,col_indexer] = value instead\n",
      "\n",
      "See the caveats in the documentation: http://pandas.pydata.org/pandas-docs/stable/indexing.html#indexing-view-versus-copy\n"
     ]
    },
    {
     "name": "stdout",
     "output_type": "stream",
     "text": [
      "Fold 0 ------------------------------\n",
      "Training until validation scores don't improve for 100 rounds.\n",
      "[10]\ttraining's map@1: 0.247713\tvalid_1's map@1: 0.204444\n",
      "[20]\ttraining's map@1: 0.263535\tvalid_1's map@1: 0.195556\n",
      "[30]\ttraining's map@1: 0.272682\tvalid_1's map@1: 0.197778\n",
      "[40]\ttraining's map@1: 0.273671\tvalid_1's map@1: 0.215556\n",
      "[50]\ttraining's map@1: 0.275155\tvalid_1's map@1: 0.213333\n",
      "[60]\ttraining's map@1: 0.280841\tvalid_1's map@1: 0.215556\n",
      "[70]\ttraining's map@1: 0.285043\tvalid_1's map@1: 0.213333\n",
      "[80]\ttraining's map@1: 0.290729\tvalid_1's map@1: 0.208889\n",
      "[90]\ttraining's map@1: 0.293449\tvalid_1's map@1: 0.208889\n",
      "[100]\ttraining's map@1: 0.300618\tvalid_1's map@1: 0.222222\n",
      "[110]\ttraining's map@1: 0.304079\tvalid_1's map@1: 0.215556\n",
      "[120]\ttraining's map@1: 0.304326\tvalid_1's map@1: 0.222222\n",
      "[130]\ttraining's map@1: 0.308776\tvalid_1's map@1: 0.217778\n",
      "[140]\ttraining's map@1: 0.31026\tvalid_1's map@1: 0.217778\n",
      "[150]\ttraining's map@1: 0.317923\tvalid_1's map@1: 0.224444\n",
      "[160]\ttraining's map@1: 0.322621\tvalid_1's map@1: 0.217778\n",
      "[170]\ttraining's map@1: 0.326823\tvalid_1's map@1: 0.22\n",
      "[180]\ttraining's map@1: 0.328059\tvalid_1's map@1: 0.22\n",
      "[190]\ttraining's map@1: 0.332756\tvalid_1's map@1: 0.224444\n",
      "[200]\ttraining's map@1: 0.336218\tvalid_1's map@1: 0.217778\n",
      "Early stopping, best iteration is:\n",
      "[103]\ttraining's map@1: 0.302101\tvalid_1's map@1: 0.226667\n",
      "Fold 1 ------------------------------\n",
      "Training until validation scores don't improve for 100 rounds.\n",
      "[10]\ttraining's map@1: 0.257849\tvalid_1's map@1: 0.184444\n",
      "[20]\ttraining's map@1: 0.281829\tvalid_1's map@1: 0.184444\n",
      "[30]\ttraining's map@1: 0.287268\tvalid_1's map@1: 0.186667\n",
      "[40]\ttraining's map@1: 0.291718\tvalid_1's map@1: 0.188889\n",
      "[50]\ttraining's map@1: 0.29691\tvalid_1's map@1: 0.182222\n",
      "[60]\ttraining's map@1: 0.300371\tvalid_1's map@1: 0.186667\n",
      "[70]\ttraining's map@1: 0.303337\tvalid_1's map@1: 0.191111\n",
      "[80]\ttraining's map@1: 0.30754\tvalid_1's map@1: 0.191111\n",
      "[90]\ttraining's map@1: 0.311496\tvalid_1's map@1: 0.18\n",
      "[100]\ttraining's map@1: 0.31199\tvalid_1's map@1: 0.184444\n",
      "Early stopping, best iteration is:\n",
      "[1]\ttraining's map@1: 0.207169\tvalid_1's map@1: 0.2\n",
      "Fold 2 ------------------------------\n",
      "Training until validation scores don't improve for 100 rounds.\n",
      "[10]\ttraining's map@1: 0.236836\tvalid_1's map@1: 0.231111\n",
      "[20]\ttraining's map@1: 0.251422\tvalid_1's map@1: 0.204444\n",
      "[30]\ttraining's map@1: 0.266255\tvalid_1's map@1: 0.202222\n",
      "[40]\ttraining's map@1: 0.268727\tvalid_1's map@1: 0.215556\n",
      "[50]\ttraining's map@1: 0.275155\tvalid_1's map@1: 0.215556\n",
      "[60]\ttraining's map@1: 0.277874\tvalid_1's map@1: 0.213333\n",
      "[70]\ttraining's map@1: 0.28356\tvalid_1's map@1: 0.22\n",
      "[80]\ttraining's map@1: 0.288999\tvalid_1's map@1: 0.22\n",
      "[90]\ttraining's map@1: 0.291471\tvalid_1's map@1: 0.213333\n",
      "[100]\ttraining's map@1: 0.297899\tvalid_1's map@1: 0.222222\n",
      "[110]\ttraining's map@1: 0.301607\tvalid_1's map@1: 0.22\n",
      "Early stopping, best iteration is:\n",
      "[10]\ttraining's map@1: 0.236836\tvalid_1's map@1: 0.231111\n",
      "Fold 3 ------------------------------\n",
      "Training until validation scores don't improve for 100 rounds.\n",
      "[10]\ttraining's map@1: 0.238319\tvalid_1's map@1: 0.186667\n",
      "[20]\ttraining's map@1: 0.25686\tvalid_1's map@1: 0.164444\n",
      "[30]\ttraining's map@1: 0.263041\tvalid_1's map@1: 0.168889\n",
      "[40]\ttraining's map@1: 0.26848\tvalid_1's map@1: 0.173333\n",
      "[50]\ttraining's map@1: 0.275896\tvalid_1's map@1: 0.184444\n",
      "[60]\ttraining's map@1: 0.278616\tvalid_1's map@1: 0.184444\n",
      "[70]\ttraining's map@1: 0.284302\tvalid_1's map@1: 0.195556\n",
      "[80]\ttraining's map@1: 0.293943\tvalid_1's map@1: 0.193333\n",
      "[90]\ttraining's map@1: 0.299382\tvalid_1's map@1: 0.2\n",
      "[100]\ttraining's map@1: 0.299629\tvalid_1's map@1: 0.191111\n",
      "Early stopping, best iteration is:\n",
      "[3]\ttraining's map@1: 0.216316\tvalid_1's map@1: 0.22\n",
      "Fold 4 ------------------------------\n",
      "Training until validation scores don't improve for 100 rounds.\n",
      "[10]\ttraining's map@1: 0.248208\tvalid_1's map@1: 0.208889\n",
      "[20]\ttraining's map@1: 0.255377\tvalid_1's map@1: 0.206667\n",
      "[30]\ttraining's map@1: 0.262546\tvalid_1's map@1: 0.204444\n",
      "[40]\ttraining's map@1: 0.272435\tvalid_1's map@1: 0.204444\n",
      "[50]\ttraining's map@1: 0.273671\tvalid_1's map@1: 0.204444\n",
      "[60]\ttraining's map@1: 0.278863\tvalid_1's map@1: 0.208889\n",
      "[70]\ttraining's map@1: 0.28356\tvalid_1's map@1: 0.22\n",
      "[80]\ttraining's map@1: 0.289246\tvalid_1's map@1: 0.213333\n",
      "[90]\ttraining's map@1: 0.293201\tvalid_1's map@1: 0.206667\n",
      "[100]\ttraining's map@1: 0.298146\tvalid_1's map@1: 0.206667\n",
      "[110]\ttraining's map@1: 0.307046\tvalid_1's map@1: 0.204444\n",
      "[120]\ttraining's map@1: 0.312732\tvalid_1's map@1: 0.2\n",
      "[130]\ttraining's map@1: 0.317182\tvalid_1's map@1: 0.197778\n",
      "[140]\ttraining's map@1: 0.321384\tvalid_1's map@1: 0.202222\n",
      "[150]\ttraining's map@1: 0.322621\tvalid_1's map@1: 0.208889\n",
      "[160]\ttraining's map@1: 0.328554\tvalid_1's map@1: 0.206667\n",
      "[170]\ttraining's map@1: 0.332756\tvalid_1's map@1: 0.22\n",
      "Early stopping, best iteration is:\n",
      "[71]\ttraining's map@1: 0.28356\tvalid_1's map@1: 0.222222\n",
      "Fold 5 ------------------------------\n",
      "Training until validation scores don't improve for 100 rounds.\n",
      "[10]\ttraining's map@1: 0.240484\tvalid_1's map@1: 0.229399\n",
      "[20]\ttraining's map@1: 0.263223\tvalid_1's map@1: 0.207127\n",
      "[30]\ttraining's map@1: 0.264953\tvalid_1's map@1: 0.222717\n",
      "[40]\ttraining's map@1: 0.271132\tvalid_1's map@1: 0.229399\n",
      "[50]\ttraining's map@1: 0.279288\tvalid_1's map@1: 0.222717\n",
      "[60]\ttraining's map@1: 0.28176\tvalid_1's map@1: 0.218263\n",
      "[70]\ttraining's map@1: 0.284231\tvalid_1's map@1: 0.222717\n",
      "[80]\ttraining's map@1: 0.290163\tvalid_1's map@1: 0.22049\n",
      "[90]\ttraining's map@1: 0.293376\tvalid_1's map@1: 0.229399\n",
      "[100]\ttraining's map@1: 0.298072\tvalid_1's map@1: 0.229399\n",
      "[110]\ttraining's map@1: 0.302521\tvalid_1's map@1: 0.224944\n",
      "[120]\ttraining's map@1: 0.303262\tvalid_1's map@1: 0.229399\n",
      "[130]\ttraining's map@1: 0.30697\tvalid_1's map@1: 0.23608\n",
      "[140]\ttraining's map@1: 0.311419\tvalid_1's map@1: 0.233853\n",
      "[150]\ttraining's map@1: 0.315126\tvalid_1's map@1: 0.233853\n",
      "[160]\ttraining's map@1: 0.316609\tvalid_1's map@1: 0.23608\n",
      "[170]\ttraining's map@1: 0.319328\tvalid_1's map@1: 0.222717\n",
      "[180]\ttraining's map@1: 0.323282\tvalid_1's map@1: 0.227171\n",
      "[190]\ttraining's map@1: 0.328967\tvalid_1's map@1: 0.227171\n",
      "[200]\ttraining's map@1: 0.329214\tvalid_1's map@1: 0.231626\n",
      "[210]\ttraining's map@1: 0.334404\tvalid_1's map@1: 0.238307\n",
      "[220]\ttraining's map@1: 0.337865\tvalid_1's map@1: 0.240535\n",
      "[230]\ttraining's map@1: 0.342313\tvalid_1's map@1: 0.242762\n",
      "[240]\ttraining's map@1: 0.347751\tvalid_1's map@1: 0.244989\n",
      "[250]\ttraining's map@1: 0.347504\tvalid_1's map@1: 0.247216\n",
      "[260]\ttraining's map@1: 0.349481\tvalid_1's map@1: 0.249443\n",
      "[270]\ttraining's map@1: 0.353188\tvalid_1's map@1: 0.244989\n",
      "[280]\ttraining's map@1: 0.354671\tvalid_1's map@1: 0.244989\n",
      "[290]\ttraining's map@1: 0.355413\tvalid_1's map@1: 0.238307\n",
      "[300]\ttraining's map@1: 0.356649\tvalid_1's map@1: 0.238307\n",
      "[310]\ttraining's map@1: 0.358626\tvalid_1's map@1: 0.242762\n",
      "[320]\ttraining's map@1: 0.361097\tvalid_1's map@1: 0.244989\n",
      "[330]\ttraining's map@1: 0.363322\tvalid_1's map@1: 0.240535\n",
      "Early stopping, best iteration is:\n",
      "[235]\ttraining's map@1: 0.345526\tvalid_1's map@1: 0.249443\n",
      "Fold 6 ------------------------------\n",
      "Training until validation scores don't improve for 100 rounds.\n",
      "[10]\ttraining's map@1: 0.255808\tvalid_1's map@1: 0.218263\n",
      "[20]\ttraining's map@1: 0.265695\tvalid_1's map@1: 0.218263\n",
      "[30]\ttraining's map@1: 0.270143\tvalid_1's map@1: 0.222717\n",
      "[40]\ttraining's map@1: 0.276322\tvalid_1's map@1: 0.222717\n",
      "[50]\ttraining's map@1: 0.281018\tvalid_1's map@1: 0.229399\n",
      "[60]\ttraining's map@1: 0.28522\tvalid_1's map@1: 0.229399\n",
      "[70]\ttraining's map@1: 0.292635\tvalid_1's map@1: 0.224944\n",
      "[80]\ttraining's map@1: 0.293129\tvalid_1's map@1: 0.22049\n",
      "[90]\ttraining's map@1: 0.297578\tvalid_1's map@1: 0.22049\n",
      "[100]\ttraining's map@1: 0.302274\tvalid_1's map@1: 0.22049\n",
      "[110]\ttraining's map@1: 0.304745\tvalid_1's map@1: 0.218263\n",
      "[120]\ttraining's map@1: 0.303757\tvalid_1's map@1: 0.213808\n",
      "Early stopping, best iteration is:\n",
      "[22]\ttraining's map@1: 0.264459\tvalid_1's map@1: 0.231626\n",
      "Fold 7 ------------------------------\n",
      "Training until validation scores don't improve for 100 rounds.\n",
      "[10]\ttraining's map@1: 0.236777\tvalid_1's map@1: 0.227171\n",
      "[20]\ttraining's map@1: 0.263964\tvalid_1's map@1: 0.218263\n",
      "[30]\ttraining's map@1: 0.269649\tvalid_1's map@1: 0.242762\n",
      "[40]\ttraining's map@1: 0.273356\tvalid_1's map@1: 0.258352\n"
     ]
    },
    {
     "name": "stdout",
     "output_type": "stream",
     "text": [
      "[50]\ttraining's map@1: 0.274098\tvalid_1's map@1: 0.258352\n",
      "[60]\ttraining's map@1: 0.278794\tvalid_1's map@1: 0.249443\n",
      "[70]\ttraining's map@1: 0.282748\tvalid_1's map@1: 0.242762\n",
      "[80]\ttraining's map@1: 0.286703\tvalid_1's map@1: 0.249443\n",
      "[90]\ttraining's map@1: 0.28868\tvalid_1's map@1: 0.244989\n",
      "[100]\ttraining's map@1: 0.298319\tvalid_1's map@1: 0.238307\n",
      "[110]\ttraining's map@1: 0.303262\tvalid_1's map@1: 0.222717\n",
      "[120]\ttraining's map@1: 0.30524\tvalid_1's map@1: 0.224944\n",
      "[130]\ttraining's map@1: 0.31216\tvalid_1's map@1: 0.231626\n",
      "[140]\ttraining's map@1: 0.314385\tvalid_1's map@1: 0.229399\n",
      "Early stopping, best iteration is:\n",
      "[44]\ttraining's map@1: 0.272121\tvalid_1's map@1: 0.262806\n",
      "Fold 8 ------------------------------\n",
      "Training until validation scores don't improve for 100 rounds.\n",
      "[10]\ttraining's map@1: 0.247899\tvalid_1's map@1: 0.2049\n",
      "[20]\ttraining's map@1: 0.265695\tvalid_1's map@1: 0.216036\n",
      "[30]\ttraining's map@1: 0.268166\tvalid_1's map@1: 0.218263\n",
      "[40]\ttraining's map@1: 0.271626\tvalid_1's map@1: 0.22049\n",
      "[50]\ttraining's map@1: 0.279535\tvalid_1's map@1: 0.227171\n",
      "[60]\ttraining's map@1: 0.281018\tvalid_1's map@1: 0.22049\n",
      "[70]\ttraining's map@1: 0.285467\tvalid_1's map@1: 0.224944\n",
      "[80]\ttraining's map@1: 0.29041\tvalid_1's map@1: 0.227171\n",
      "[90]\ttraining's map@1: 0.291152\tvalid_1's map@1: 0.216036\n",
      "[100]\ttraining's map@1: 0.293623\tvalid_1's map@1: 0.218263\n",
      "[110]\ttraining's map@1: 0.298814\tvalid_1's map@1: 0.224944\n",
      "[120]\ttraining's map@1: 0.304251\tvalid_1's map@1: 0.222717\n",
      "[130]\ttraining's map@1: 0.309689\tvalid_1's map@1: 0.222717\n",
      "[140]\ttraining's map@1: 0.312407\tvalid_1's map@1: 0.227171\n",
      "Early stopping, best iteration is:\n",
      "[48]\ttraining's map@1: 0.2783\tvalid_1's map@1: 0.229399\n",
      "Fold 9 ------------------------------\n",
      "Training until validation scores don't improve for 100 rounds.\n",
      "[10]\ttraining's map@1: 0.249629\tvalid_1's map@1: 0.209354\n",
      "[20]\ttraining's map@1: 0.261987\tvalid_1's map@1: 0.211581\n",
      "[30]\ttraining's map@1: 0.269896\tvalid_1's map@1: 0.207127\n",
      "[40]\ttraining's map@1: 0.273356\tvalid_1's map@1: 0.213808\n",
      "[50]\ttraining's map@1: 0.276569\tvalid_1's map@1: 0.222717\n",
      "[60]\ttraining's map@1: 0.281265\tvalid_1's map@1: 0.238307\n",
      "[70]\ttraining's map@1: 0.284726\tvalid_1's map@1: 0.238307\n",
      "[80]\ttraining's map@1: 0.289174\tvalid_1's map@1: 0.231626\n",
      "[90]\ttraining's map@1: 0.292388\tvalid_1's map@1: 0.23608\n",
      "[100]\ttraining's map@1: 0.294859\tvalid_1's map@1: 0.240535\n",
      "[110]\ttraining's map@1: 0.296836\tvalid_1's map@1: 0.233853\n",
      "[120]\ttraining's map@1: 0.300791\tvalid_1's map@1: 0.244989\n",
      "[130]\ttraining's map@1: 0.303757\tvalid_1's map@1: 0.242762\n",
      "[140]\ttraining's map@1: 0.30697\tvalid_1's map@1: 0.247216\n",
      "[150]\ttraining's map@1: 0.313643\tvalid_1's map@1: 0.244989\n",
      "[160]\ttraining's map@1: 0.316609\tvalid_1's map@1: 0.240535\n",
      "[170]\ttraining's map@1: 0.316362\tvalid_1's map@1: 0.240535\n",
      "[180]\ttraining's map@1: 0.318833\tvalid_1's map@1: 0.242762\n",
      "[190]\ttraining's map@1: 0.323777\tvalid_1's map@1: 0.240535\n",
      "[200]\ttraining's map@1: 0.32699\tvalid_1's map@1: 0.247216\n",
      "[210]\ttraining's map@1: 0.330944\tvalid_1's map@1: 0.25167\n",
      "[220]\ttraining's map@1: 0.332921\tvalid_1's map@1: 0.256125\n",
      "[230]\ttraining's map@1: 0.338112\tvalid_1's map@1: 0.247216\n",
      "[240]\ttraining's map@1: 0.338606\tvalid_1's map@1: 0.242762\n",
      "[250]\ttraining's map@1: 0.341325\tvalid_1's map@1: 0.25167\n",
      "[260]\ttraining's map@1: 0.342561\tvalid_1's map@1: 0.256125\n",
      "[270]\ttraining's map@1: 0.344785\tvalid_1's map@1: 0.247216\n",
      "[280]\ttraining's map@1: 0.347998\tvalid_1's map@1: 0.25167\n",
      "[290]\ttraining's map@1: 0.351705\tvalid_1's map@1: 0.25167\n",
      "[300]\ttraining's map@1: 0.355413\tvalid_1's map@1: 0.242762\n",
      "[310]\ttraining's map@1: 0.356649\tvalid_1's map@1: 0.244989\n",
      "Early stopping, best iteration is:\n",
      "[211]\ttraining's map@1: 0.331438\tvalid_1's map@1: 0.256125\n",
      "mean score 0.23293986636971048\n"
     ]
    }
   ],
   "source": [
    "models,pred = cross_validate(target=\"mix_sat\",param=dict(n_estimators=1000,metric=\"map\",subsample=0.6,min_split_gain=10,colsample_bytree=0.6,max_depth=7,importance_type=\"gain\",device=\"gpu\",gpu_platform_id=0,gpu_device_id=0),n_folds=10)"
   ]
  },
  {
   "cell_type": "code",
   "execution_count": 26,
   "metadata": {},
   "outputs": [
    {
     "data": {
      "image/png": "[encoded data removed]",
      "text/plain": [
       "<Figure size 1152x864 with 1 Axes>"
      ]
     },
     "metadata": {},
     "output_type": "display_data"
    }
   ],
   "source": [
    "import matplotlib.pyplot as plt\n",
    "import seaborn as sns\n",
    "\n",
    "feature_importance = pd.DataFrame()\n",
    "for idx,model in enumerate(models):\n",
    "    fold_importance = pd.DataFrame()\n",
    "    fold_importance[\"feature\"] =[\"live_city_id\",\"desire_jd_salary_id\",\"cur_industry_id\",\"cur_jd_type\",\"cur_salary_id\",\n",
    "             \"cur_degree_id\",\"birthday\",\"city\",\"jd_sub_type\",\"require_nums\",\"cur_jd_browsed_rate\",\n",
    "                    \"cur_jd_delivered_rate\",\"cur_jd_satisfied_rate\",\n",
    "                    \"jd_sub_browsed_rate\",\n",
    "                    \"jd_sub_delivered_rate\",\"jd_sub_satisfied_rate\",\n",
    "                    \"start_month\",\n",
    "             \"max_salary\",\"min_salary\",\"is_travel\",\"min_years\",\"min_edu_level\",\n",
    "             \"desire_jd_city_1\",\"desire_jd_city_2\",\"desire_jd_city_3\",\"exp_in_desc_num\",\n",
    "                   \"desire_min_salary\",\"desire_max_salary\",\"salary_large_than_desire\",\"cur_salary_min\",\n",
    "                   \"cur_salary_max\",\"salary_large_than_cur\",\"job_description_len\",\"experience_num\",\"work_years_statisfied\",\"work_years\",\"desire_jd_city_num\",\"desire_salary_diff\"]+cross_feature_names\n",
    "\n",
    "    fold_importance[\"importance\"] = model.feature_importances_\n",
    "    fold_importance[\"fold\"] = idx\n",
    "    feature_importance = pd.concat([feature_importance,fold_importance])\n",
    "plt.figure(figsize=(16, 12));\n",
    "sns.barplot(x=\"importance\", y=\"feature\", data=feature_importance.sort_values(by=\"importance\", ascending=False));\n",
    "plt.title('mix_satsatisfied LGB Features (avg over folds)');"
   ]
  },
  {
   "cell_type": "code",
   "execution_count": null,
   "metadata": {},
   "outputs": [],
   "source": []
  },
  {
   "cell_type": "code",
   "execution_count": 27,
   "metadata": {},
   "outputs": [
    {
     "data": {
      "text/html": [
       "<div>\n",
       "<style scoped>\n",
       "    .dataframe tbody tr th:only-of-type {\n",
       "        vertical-align: middle;\n",
       "    }\n",
       "\n",
       "    .dataframe tbody tr th {\n",
       "        vertical-align: top;\n",
       "    }\n",
       "\n",
       "    .dataframe thead th {\n",
       "        text-align: right;\n",
       "    }\n",
       "</style>\n",
       "<table border=\"1\" class=\"dataframe\">\n",
       "  <thead>\n",
       "    <tr style=\"text-align: right;\">\n",
       "      <th></th>\n",
       "      <th>user_id</th>\n",
       "      <th>jd_no</th>\n",
       "    </tr>\n",
       "  </thead>\n",
       "  <tbody>\n",
       "    <tr>\n",
       "      <th>0</th>\n",
       "      <td>167827d429af352a93b28666c33ed0fd</td>\n",
       "      <td>6855780caa3e8b4c6c65adfacdda5282</td>\n",
       "    </tr>\n",
       "    <tr>\n",
       "      <th>1</th>\n",
       "      <td>167827d429af352a93b28666c33ed0fd</td>\n",
       "      <td>20603e8eec8f4fbab757ad70e86fdec2</td>\n",
       "    </tr>\n",
       "    <tr>\n",
       "      <th>2</th>\n",
       "      <td>167827d429af352a93b28666c33ed0fd</td>\n",
       "      <td>b612c4ec69756fe4944071cb0525ef8d</td>\n",
       "    </tr>\n",
       "    <tr>\n",
       "      <th>3</th>\n",
       "      <td>167827d429af352a93b28666c33ed0fd</td>\n",
       "      <td>0558a2371bbfa13eb9295f8011eeb997</td>\n",
       "    </tr>\n",
       "    <tr>\n",
       "      <th>4</th>\n",
       "      <td>167827d429af352a93b28666c33ed0fd</td>\n",
       "      <td>fde5a7db457d1123f56be0e295576c0c</td>\n",
       "    </tr>\n",
       "  </tbody>\n",
       "</table>\n",
       "</div>"
      ],
      "text/plain": [
       "                            user_id                             jd_no\n",
       "0  167827d429af352a93b28666c33ed0fd  6855780caa3e8b4c6c65adfacdda5282\n",
       "1  167827d429af352a93b28666c33ed0fd  20603e8eec8f4fbab757ad70e86fdec2\n",
       "2  167827d429af352a93b28666c33ed0fd  b612c4ec69756fe4944071cb0525ef8d\n",
       "3  167827d429af352a93b28666c33ed0fd  0558a2371bbfa13eb9295f8011eeb997\n",
       "4  167827d429af352a93b28666c33ed0fd  fde5a7db457d1123f56be0e295576c0c"
      ]
     },
     "execution_count": 27,
     "metadata": {},
     "output_type": "execute_result"
    }
   ],
   "source": [
    "test_action = pd.read_csv(\"data/zhaopin_round1_user_exposure_B_20190819\",delim_whitespace=True)\n",
    "test_action.head()"
   ]
  },
  {
   "cell_type": "code",
   "execution_count": 28,
   "metadata": {},
   "outputs": [
    {
     "name": "stderr",
     "output_type": "stream",
     "text": [
      "/home/ubuntu/anaconda3/envs/tensorflow_p36/lib/python3.6/site-packages/ipykernel/__main__.py:2: SettingWithCopyWarning: \n",
      "A value is trying to be set on a copy of a slice from a DataFrame.\n",
      "Try using .loc[row_indexer,col_indexer] = value instead\n",
      "\n",
      "See the caveats in the documentation: http://pandas.pydata.org/pandas-docs/stable/indexing.html#indexing-view-versus-copy\n",
      "  from ipykernel import kernelapp as app\n"
     ]
    }
   ],
   "source": [
    "submit = test_big_table[[\"user_id\",\"jd_no\"]]\n",
    "submit[\"score\"] = pred\n",
    "submit = submit.reset_index(drop=True)\n",
    "result = pd.merge(test_action,submit,how=\"left\",on=[\"user_id\",\"jd_no\"])\n",
    "result.fillna(-100,inplace=True)\n",
    "result = result.groupby(\"user_id\",as_index=False).apply(lambda x:x.sort_values(\"score\",ascending=False))\n",
    "result[[\"user_id\",\"jd_no\",\"score\"]].to_csv(\"submission2.csv\",index=False)"
   ]
  },
  {
   "cell_type": "code",
   "execution_count": 29,
   "metadata": {},
   "outputs": [
    {
     "name": "stderr",
     "output_type": "stream",
     "text": [
      "/home/ubuntu/anaconda3/envs/tensorflow_p36/lib/python3.6/site-packages/ipykernel/__main__.py:2: SettingWithCopyWarning: \n",
      "A value is trying to be set on a copy of a slice from a DataFrame.\n",
      "Try using .loc[row_indexer,col_indexer] = value instead\n",
      "\n",
      "See the caveats in the documentation: http://pandas.pydata.org/pandas-docs/stable/indexing.html#indexing-view-versus-copy\n",
      "  from ipykernel import kernelapp as app\n"
     ]
    }
   ],
   "source": [
    "submit = test_big_table[[\"user_id\",\"jd_no\"]]\n",
    "submit[\"score\"] = pred\n",
    "submit = submit.reset_index(drop=True)\n",
    "result = pd.merge(test_action,submit,how=\"left\",on=[\"user_id\",\"jd_no\"])\n",
    "result.fillna(-100,inplace=True)\n",
    "result = result.groupby(\"user_id\",as_index=False).apply(lambda x:x.sort_values(\"score\",ascending=False))\n",
    "# 需要对结果进行去重\n",
    "result[[\"user_id\",\"jd_no\",\"score\"]].drop_duplicates().to_csv(\"submission2.csv\",index=False)"
   ]
  },
  {
   "cell_type": "code",
   "execution_count": 30,
   "metadata": {},
   "outputs": [
    {
     "data": {
      "text/plain": [
       "(29674, 3)"
      ]
     },
     "execution_count": 30,
     "metadata": {},
     "output_type": "execute_result"
    }
   ],
   "source": [
    "result[[\"user_id\",\"jd_no\",\"score\"]].drop_duplicates().shape"
   ]
  },
  {
   "cell_type": "code",
   "execution_count": null,
   "metadata": {},
   "outputs": [],
   "source": [
    "#work_years_statisfied=1\n",
    "#is_edu_ok？ 1\n",
    "#year&is_city_eq "
   ]
  }
 ],
 "metadata": {
  "kernelspec": {
   "display_name": "Python 3",
   "language": "python",
   "name": "python3"
  },
  "language_info": {
   "codemirror_mode": {
    "name": "ipython",
    "version": 3
   },
   "file_extension": ".py",
   "mimetype": "text/x-python",
   "name": "python",
   "nbconvert_exporter": "python",
   "pygments_lexer": "ipython3",
   "version": "3.6.2"
  }
 },
 "nbformat": 4,
 "nbformat_minor": 2
}
