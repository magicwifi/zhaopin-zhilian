{
 "cells": [
  {
   "cell_type": "code",
   "execution_count": 51,
   "metadata": {},
   "outputs": [],
   "source": [
    "# coding:utf-8\n",
    "\n",
    "import numpy as np\n",
    "import pandas as pd\n",
    "from pandas import Series, DataFrame\n",
    "\n",
    "import matplotlib.pyplot as plt\n",
    "\n",
    "from sklearn.model_selection import train_test_split\n",
    "\n",
    "\n",
    "%matplotlib inline"
   ]
  },
  {
   "cell_type": "code",
   "execution_count": 52,
   "metadata": {},
   "outputs": [
    {
     "name": "stderr",
     "output_type": "stream",
     "text": [
      "b'Skipping line 173315: expected 18 fields, saw 20\\n'\n",
      "/home/ubuntu/anaconda3/envs/tensorflow_p36/lib/python3.6/site-packages/IPython/core/interactiveshell.py:2785: DtypeWarning: Columns (8,9) have mixed types. Specify dtype option on import or set low_memory=False.\n",
      "  interactivity=interactivity, compiler=compiler, result=result)\n"
     ]
    }
   ],
   "source": [
    "train_user = pd.read_csv('data/table1_user',encoding='utf-8',index_col = False, delimiter='\\t',\n",
    "                                 )\n",
    "train_user['cur_jd_type'] = train_user['cur_jd_type'].astype(str)\n",
    "train_user.loc[train_user['cur_jd_type']=='nan',['cur_jd_type']] = '无业'\n",
    "train_job = pd.read_csv(\"data/table2_jd\",delimiter=\"\\t\",error_bad_lines=False)\n",
    "train_action = pd.read_csv(\"data/table3_action\",delimiter=\"\\t\")\n",
    "test_action = pd.read_csv(\"data/zhaopin_round1_user_exposure_B_20190819\",delim_whitespace=True)\n",
    "test_user = pd.read_csv(\"data/user_ToBePredicted\",delimiter=\"\\t\")\n",
    "test_user['cur_jd_type'] = test_user['cur_jd_type'].astype(str)\n",
    "test_user.loc[test_user['cur_jd_type']=='nan',['cur_jd_type']] = '无业'\n",
    "train_action['mix_sat']  = train_action['satisfied']*10+train_action['delivered']*3\n",
    "train_action.loc[train_action.mix_sat==13,'mix_sat'] =10"
   ]
  },
  {
   "cell_type": "code",
   "execution_count": 53,
   "metadata": {},
   "outputs": [
    {
     "data": {
      "text/plain": [
       "(40359, 2)"
      ]
     },
     "execution_count": 53,
     "metadata": {},
     "output_type": "execute_result"
    }
   ],
   "source": [
    "test_action.shape"
   ]
  },
  {
   "cell_type": "code",
   "execution_count": 54,
   "metadata": {},
   "outputs": [],
   "source": [
    "train_big_table = pd.merge(train_action,train_user,how=\"inner\",on=\"user_id\")\n",
    "train_big_table = pd.merge(train_big_table,train_job,how=\"left\",on=\"jd_no\")\n",
    "test_big_table = pd.merge(test_action,test_user,how=\"inner\",on=\"user_id\")\n",
    "test_big_table = pd.merge(test_big_table,train_job,how=\"left\",on=\"jd_no\")\n",
    "train_big_table.drop_duplicates(inplace=True)\n",
    "test_big_table.drop_duplicates(inplace=True)"
   ]
  },
  {
   "cell_type": "code",
   "execution_count": 55,
   "metadata": {},
   "outputs": [],
   "source": [
    "train_big_table['jd_sub_type'] = train_big_table['jd_sub_type'].astype(str)\n",
    "train_big_table.loc[train_big_table['jd_sub_type']=='nan',['jd_sub_type']] = '未给出'\n",
    "test_big_table['jd_sub_type'] = test_big_table['jd_sub_type'].astype(str)\n",
    "test_big_table.loc[test_big_table['jd_sub_type']=='nan',['jd_sub_type']] = '未给出'\n"
   ]
  },
  {
   "cell_type": "code",
   "execution_count": 56,
   "metadata": {},
   "outputs": [],
   "source": [
    "jd_sub_action_series = train_big_table.groupby(['jd_sub_type'])['browsed'].count()\n",
    "jd_sub_action =pd.DataFrame({'jd_sub_type':jd_sub_action_series.index, 'jd_sub_pos_cont':jd_sub_action_series.values})\n",
    "jd_sub_action['jd_sub_browsed_rate'] = train_big_table.groupby(['jd_sub_type'])['browsed'].mean().values\n",
    "jd_sub_action['jd_sub_delivered_rate'] = train_big_table.groupby(['jd_sub_type'])['delivered'].mean().values\n",
    "jd_sub_action['jd_sub_satisfied_rate'] = train_big_table.groupby(['jd_sub_type'])['satisfied'].mean().values\n",
    "jd_sub_action['jd_sub_satisfied_cont'] = train_big_table.groupby(['jd_sub_type'])['satisfied'].sum().values\n",
    "jd_sub_action['jd_sub_delivered_cont'] = train_big_table.groupby(['jd_sub_type'])['delivered'].sum().values\n",
    "jd_sub_action['jd_sub_browsed_cont'] = train_big_table.groupby(['jd_sub_type'])['browsed'].sum().values\n",
    "jd_sub_action['jd_sub_satisfied_conv_rate'] = jd_sub_action['jd_sub_satisfied_cont'] / jd_sub_action['jd_sub_delivered_cont']\n",
    "jd_sub_action['jd_sub_delivered_conv_rate'] = jd_sub_action['jd_sub_delivered_cont'] / jd_sub_action['jd_sub_browsed_cont']\n",
    "jd_sub_action.loc[jd_sub_action['jd_sub_satisfied_conv_rate'].isnull(),'jd_sub_satisfied_conv_rate']=0\n",
    "jd_sub_action.loc[jd_sub_action['jd_sub_delivered_conv_rate'].isnull(),'jd_sub_delivered_conv_rate']=0\n",
    "train_big_table = pd.merge(train_big_table,jd_sub_action,how=\"left\",on=\"jd_sub_type\")\n",
    "test_big_table = pd.merge(test_big_table,jd_sub_action,how=\"left\",on=\"jd_sub_type\")\n",
    "\n"
   ]
  },
  {
   "cell_type": "code",
   "execution_count": 57,
   "metadata": {},
   "outputs": [
    {
     "data": {
      "text/html": [
       "<div>\n",
       "<style scoped>\n",
       "    .dataframe tbody tr th:only-of-type {\n",
       "        vertical-align: middle;\n",
       "    }\n",
       "\n",
       "    .dataframe tbody tr th {\n",
       "        vertical-align: top;\n",
       "    }\n",
       "\n",
       "    .dataframe thead th {\n",
       "        text-align: right;\n",
       "    }\n",
       "</style>\n",
       "<table border=\"1\" class=\"dataframe\">\n",
       "  <thead>\n",
       "    <tr style=\"text-align: right;\">\n",
       "      <th></th>\n",
       "      <th>user_id</th>\n",
       "      <th>jd_no</th>\n",
       "      <th>live_city_id</th>\n",
       "      <th>desire_jd_city_id</th>\n",
       "      <th>desire_jd_industry_id</th>\n",
       "      <th>desire_jd_type_id</th>\n",
       "      <th>desire_jd_salary_id</th>\n",
       "      <th>cur_industry_id</th>\n",
       "      <th>cur_jd_type</th>\n",
       "      <th>cur_salary_id</th>\n",
       "      <th>...</th>\n",
       "      <th>job_description</th>\n",
       "      <th>jd_sub_pos_cont</th>\n",
       "      <th>jd_sub_browsed_rate</th>\n",
       "      <th>jd_sub_delivered_rate</th>\n",
       "      <th>jd_sub_satisfied_rate</th>\n",
       "      <th>jd_sub_satisfied_cont</th>\n",
       "      <th>jd_sub_delivered_cont</th>\n",
       "      <th>jd_sub_browsed_cont</th>\n",
       "      <th>jd_sub_satisfied_conv_rate</th>\n",
       "      <th>jd_sub_delivered_conv_rate</th>\n",
       "    </tr>\n",
       "  </thead>\n",
       "  <tbody>\n",
       "  </tbody>\n",
       "</table>\n",
       "<p>0 rows × 40 columns</p>\n",
       "</div>"
      ],
      "text/plain": [
       "Empty DataFrame\n",
       "Columns: [user_id, jd_no, live_city_id, desire_jd_city_id, desire_jd_industry_id, desire_jd_type_id, desire_jd_salary_id, cur_industry_id, cur_jd_type, cur_salary_id, cur_degree_id, birthday, start_work_date, experience, jd_title, company_name, city, jd_sub_type, require_nums, max_salary, min_salary, start_date, end_date, is_travel, min_years, key, min_edu_level, max_edu_level, is_mangerial, resume_language_required, job_description, jd_sub_pos_cont, jd_sub_browsed_rate, jd_sub_delivered_rate, jd_sub_satisfied_rate, jd_sub_satisfied_cont, jd_sub_delivered_cont, jd_sub_browsed_cont, jd_sub_satisfied_conv_rate, jd_sub_delivered_conv_rate]\n",
       "Index: []\n",
       "\n",
       "[0 rows x 40 columns]"
      ]
     },
     "execution_count": 57,
     "metadata": {},
     "output_type": "execute_result"
    }
   ],
   "source": [
    "test_big_table.loc[test_big_table['jd_sub_type']=='杂工',['jd_sub_pos_cont','jd_sub_browsed_rate','jd_sub_delivered_rate','jd_sub_satisfied_rate','jd_sub_satisfied_conv_rate','jd_sub_delivered_conv_rate']] = 32,0.125000,0.031250,0.031250,1.000000,0.250000\n",
    "test_big_table.loc[test_big_table['jd_sub_type']=='包装工程师',['jd_sub_pos_cont','jd_sub_browsed_rate','jd_sub_delivered_rate','jd_sub_satisfied_rate','jd_sub_satisfied_conv_rate','jd_sub_delivered_conv_rate']] = 9,0.333333,0.000000,0.000000,0.000000,0.500000\n",
    "test_big_table.loc[test_big_table['jd_sub_type']=='样衣工',['jd_sub_pos_cont','jd_sub_browsed_rate','jd_sub_delivered_rate','jd_sub_satisfied_rate','jd_sub_satisfied_conv_rate','jd_sub_delivered_conv_rate']] = 9,0.333333,0.000000,0.000000,0.000000,0.500000\n",
    "test_big_table.loc[test_big_table['jd_sub_type']=='行李员',['jd_sub_pos_cont','jd_sub_browsed_rate','jd_sub_delivered_rate','jd_sub_satisfied_rate','jd_sub_satisfied_conv_rate','jd_sub_delivered_conv_rate']] = 32,0.125000,0.031250,0.031250,1.000000,0.250000\n",
    "\n",
    "test_big_table[test_big_table['jd_sub_pos_cont'].isnull()]"
   ]
  },
  {
   "cell_type": "code",
   "execution_count": 58,
   "metadata": {},
   "outputs": [],
   "source": [
    "\n",
    "jd_no_action_series = train_big_table.groupby(['jd_no'])['browsed'].count()\n",
    "jd_no_action =pd.DataFrame({'jd_no':jd_no_action_series.index, 'jd_no_pos_cont':jd_no_action_series.values})\n",
    "jd_no_action['jd_no_browsed_rate'] = train_big_table.groupby(['jd_no'])['browsed'].mean().values\n",
    "jd_no_action['jd_no_delivered_rate'] = train_big_table.groupby(['jd_no'])['delivered'].mean().values\n",
    "jd_no_action['jd_no_satisfied_rate'] = train_big_table.groupby(['jd_no'])['satisfied'].mean().values\n",
    "\n"
   ]
  },
  {
   "cell_type": "code",
   "execution_count": 59,
   "metadata": {},
   "outputs": [],
   "source": [
    "train_big_table = pd.merge(train_big_table,jd_no_action,how=\"left\",on=\"jd_no\")\n",
    "test_big_table = pd.merge(test_big_table,jd_no_action,how=\"left\",on=\"jd_no\")"
   ]
  },
  {
   "cell_type": "code",
   "execution_count": 60,
   "metadata": {},
   "outputs": [
    {
     "data": {
      "text/plain": [
       "user_id                       0\n",
       "jd_no                         0\n",
       "live_city_id                  0\n",
       "desire_jd_city_id             0\n",
       "desire_jd_industry_id         0\n",
       "desire_jd_type_id             0\n",
       "desire_jd_salary_id           0\n",
       "cur_industry_id               0\n",
       "cur_jd_type                   0\n",
       "cur_salary_id                 0\n",
       "cur_degree_id                 0\n",
       "birthday                      0\n",
       "start_work_date               0\n",
       "experience                    0\n",
       "jd_title                      0\n",
       "company_name                  0\n",
       "city                          0\n",
       "jd_sub_type                   0\n",
       "require_nums                  0\n",
       "max_salary                    0\n",
       "min_salary                    0\n",
       "start_date                    0\n",
       "end_date                      0\n",
       "is_travel                     0\n",
       "min_years                     0\n",
       "key                           0\n",
       "min_edu_level                 0\n",
       "max_edu_level                 0\n",
       "is_mangerial                  0\n",
       "resume_language_required      0\n",
       "job_description               0\n",
       "jd_sub_pos_cont               0\n",
       "jd_sub_browsed_rate           0\n",
       "jd_sub_delivered_rate         0\n",
       "jd_sub_satisfied_rate         0\n",
       "jd_sub_satisfied_cont         0\n",
       "jd_sub_delivered_cont         0\n",
       "jd_sub_browsed_cont           0\n",
       "jd_sub_satisfied_conv_rate    0\n",
       "jd_sub_delivered_conv_rate    0\n",
       "jd_no_pos_cont                0\n",
       "jd_no_browsed_rate            0\n",
       "jd_no_delivered_rate          0\n",
       "jd_no_satisfied_rate          0\n",
       "dtype: int64"
      ]
     },
     "execution_count": 60,
     "metadata": {},
     "output_type": "execute_result"
    }
   ],
   "source": [
    "\n",
    "train_big_table.loc[train_big_table['jd_no_pos_cont']<=1,['jd_no_browsed_rate','jd_no_delivered_rate','jd_no_satisfied_rate']] = -1,-1,-1\n",
    "test_big_table.loc[test_big_table['jd_no_pos_cont']<=1,['jd_no_browsed_rate','jd_no_delivered_rate','jd_no_satisfied_rate']] = -1,-1,-1\n",
    "test_big_table.loc[test_big_table['jd_no_pos_cont'].isnull(),['jd_no_browsed_rate','jd_no_delivered_rate','jd_no_satisfied_rate']] = -1,-1,-1\n",
    "test_big_table[test_big_table['jd_no_browsed_rate'].isnull()].count()\n",
    "\n"
   ]
  },
  {
   "cell_type": "code",
   "execution_count": 61,
   "metadata": {},
   "outputs": [],
   "source": [
    "cur_jd_action_series = train_big_table.groupby(['cur_jd_type'])['browsed'].count()\n",
    "cur_jd_action =pd.DataFrame({'cur_jd_type':cur_jd_action_series.index, 'cur_jd_pos_cont':cur_jd_action_series.values})\n",
    "cur_jd_action['cur_jd_browsed_rate'] = train_big_table.groupby(['cur_jd_type'])['browsed'].mean().values\n",
    "cur_jd_action['cur_jd_delivered_rate'] = train_big_table.groupby(['cur_jd_type'])['delivered'].mean().values\n",
    "cur_jd_action['cur_jd_satisfied_rate'] = train_big_table.groupby(['cur_jd_type'])['satisfied'].mean().values\n",
    "test_big_table = pd.merge(test_big_table,cur_jd_action,how=\"left\",on=\"cur_jd_type\")\n",
    "train_big_table = pd.merge(train_big_table,cur_jd_action,how=\"left\",on=\"cur_jd_type\")"
   ]
  },
  {
   "cell_type": "code",
   "execution_count": null,
   "metadata": {},
   "outputs": [],
   "source": []
  },
  {
   "cell_type": "code",
   "execution_count": 62,
   "metadata": {},
   "outputs": [
    {
     "data": {
      "text/plain": [
       " 1.0    301195\n",
       "-1.0    173941\n",
       " 0.0     79289\n",
       "Name: jd_no_browsed_rate, dtype: int64"
      ]
     },
     "execution_count": 62,
     "metadata": {},
     "output_type": "execute_result"
    }
   ],
   "source": [
    "train_big_table.loc[train_big_table['jd_no_browsed_rate']>0,['jd_no_browsed_rate']]=1\n",
    "train_big_table.loc[train_big_table['jd_no_delivered_rate']>0,['jd_no_delivered_rate']]=1\n",
    "train_big_table.loc[train_big_table['jd_no_satisfied_rate']>0,['jd_no_satisfied_rate']]=1\n",
    "\n",
    "\n",
    "test_big_table.loc[test_big_table['jd_no_browsed_rate']>0,['jd_no_browsed_rate']]=1\n",
    "test_big_table.loc[test_big_table['jd_no_delivered_rate']>0,['jd_no_delivered_rate']]=1\n",
    "test_big_table.loc[test_big_table['jd_no_satisfied_rate']>0,['jd_no_satisfied_rate']]=1\n",
    "\n",
    "train_big_table['jd_no_browsed_rate'].value_counts()"
   ]
  },
  {
   "cell_type": "code",
   "execution_count": 63,
   "metadata": {},
   "outputs": [],
   "source": [
    "train_big_table['start_date'].fillna('na',inplace=True)\n",
    "test_big_table['start_date'].fillna('na',inplace=True)\n",
    "train_big_table['end_date'].fillna('na',inplace=True)\n",
    "test_big_table['end_date'].fillna('na',inplace=True)\n"
   ]
  },
  {
   "cell_type": "code",
   "execution_count": 64,
   "metadata": {},
   "outputs": [],
   "source": [
    "train_big_table['start_date'] = train_big_table['start_date'].astype(str)\n",
    "train_big_table['end_date'] = train_big_table['end_date'].astype(str)\n",
    "test_big_table['start_date'] = test_big_table['start_date'].astype(str)\n",
    "test_big_table['end_date'] = test_big_table['end_date'].astype(str)"
   ]
  },
  {
   "cell_type": "code",
   "execution_count": 65,
   "metadata": {},
   "outputs": [],
   "source": [
    "from datetime import datetime\n",
    "\n",
    "def remain_date(x):\n",
    "    if  'N' in x :\n",
    "        return 99999;\n",
    "    elif 'na' in x:\n",
    "        return -1\n",
    "    else:\n",
    "        d1 = datetime.strptime('20190327', \"%Y%m%d\")\n",
    "        d2 = datetime.strptime(x, \"%Y%m%d\")\n",
    "        return abs((d2 - d1).days)\n",
    "    \n",
    "train_big_table['remain_date'] = train_big_table['end_date'].apply(remain_date)\n",
    "test_big_table['remain_date'] = test_big_table['end_date'].apply(remain_date)"
   ]
  },
  {
   "cell_type": "code",
   "execution_count": 66,
   "metadata": {},
   "outputs": [],
   "source": [
    "def month_convert(x):\n",
    "    if  'N' in x:\n",
    "        return -1;\n",
    "    elif 'na' in x:\n",
    "        return -1\n",
    "    else:\n",
    "        if int(x[0:6])< 201804:\n",
    "            return '201804'\n",
    "        else:\n",
    "            return x[0:6]\n",
    "\n",
    "train_big_table['start_month'] = train_big_table['start_date'].apply(month_convert)\n",
    "test_big_table['start_month'] = test_big_table['start_date'].apply(month_convert)"
   ]
  },
  {
   "cell_type": "code",
   "execution_count": 67,
   "metadata": {},
   "outputs": [],
   "source": [
    "def extract_city(citys,index):\n",
    "    city_list = citys.split(\",\")\n",
    "    if index < len(city_list):\n",
    "        city = city_list[index]\n",
    "        if city != \"-\":\n",
    "            city = int(city)\n",
    "        else:\n",
    "            city = -1\n",
    "    else:\n",
    "        city = -1\n",
    "    return city\n",
    "\n",
    "def exp_in_desc(exp,desc):\n",
    "    if str(exp) == \"nan\":\n",
    "        exp = \"\"\n",
    "    exps = exp.split(\"|\")\n",
    "    num = 0\n",
    "    for item in exps:\n",
    "        if item in desc:\n",
    "            num+=1\n",
    "    return num"
   ]
  },
  {
   "cell_type": "code",
   "execution_count": 68,
   "metadata": {},
   "outputs": [],
   "source": [
    "min_year_dict = {\n",
    "    305: 4,\n",
    "    -1:-1,\n",
    "    1:1,\n",
    "    103:2,\n",
    "    0:0,\n",
    "    510:7,\n",
    "    1099:10,\n",
    "    399:4,\n",
    "    599:7,\n",
    "    199:1,\n",
    "    299:2,\n",
    "    110:1\n",
    "}\n",
    "degree_dict = {\n",
    "    \"初中\":1,\n",
    "    \"中技\":2,\n",
    "    \"高中\":3,\n",
    "    \"中专\":3,\n",
    "    \"大专\":4,\n",
    "    \"本科\":5,\n",
    "    \"硕士\":6,\n",
    "    \"博士\":7,\n",
    "    \"EMBA\":7,\n",
    "    \"MBA\":6,\n",
    "    \"其他\":0,\n",
    "    \"请选择\":0,\n",
    "    \"\\\\N\":0,\n",
    "    \"na\":0\n",
    "}\n",
    "min_salary_dict = {\n",
    "    100002000:1000,\n",
    "    400106000:4001,\n",
    "    0:0,\n",
    "    200104000:2001,\n",
    "    600108000:6001,\n",
    "    800110000:8001,\n",
    "    1000115000:10001,\n",
    "    2500199999:25001,\n",
    "    1500125000:15001,\n",
    "    3500150000:35001,\n",
    "    70001100000:70001,\n",
    "    1000:0,\n",
    "    100001150000:100001,\n",
    "    2500135000:25001,\n",
    "    5000170000:50001\n",
    "}\n",
    "max_salary_dict = {\n",
    "    100002000:2000,\n",
    "    400106000:6000,\n",
    "    0:0,\n",
    "    200104000:4000,\n",
    "    600108000:8000,\n",
    "    800110000:10000,\n",
    "    1000115000:15000,\n",
    "    2500199999:99999,\n",
    "    1500125000:25000,\n",
    "    3500150000:50000,\n",
    "    70001100000:100000,\n",
    "    1000:1000,\n",
    "    100001150000:150000,\n",
    "    2500135000:35000,\n",
    "    5000170000:70000\n",
    "}"
   ]
  },
  {
   "cell_type": "code",
   "execution_count": 69,
   "metadata": {},
   "outputs": [],
   "source": [
    "train_big_table['min_years'].fillna(-1,inplace=True)\n",
    "test_big_table['min_years'].fillna(-1,inplace=True)\n",
    "train_big_table['cur_degree_id'].fillna('na',inplace=True)\n",
    "test_big_table['cur_degree_id'].fillna('na',inplace=True)\n",
    "train_big_table['desire_jd_salary_id'].fillna(0,inplace=True)\n",
    "test_big_table['desire_jd_salary_id'].fillna(0,inplace=True)\n",
    "train_big_table['job_description'].fillna(\"\",inplace=True)\n",
    "test_big_table['job_description'].fillna(\"\",inplace=True)"
   ]
  },
  {
   "cell_type": "code",
   "execution_count": 70,
   "metadata": {},
   "outputs": [],
   "source": [
    "from functools import partial\n",
    "def fe(df):\n",
    "    df[\"desire_jd_city_1\"] = df[\"desire_jd_city_id\"].apply(partial(extract_city,index=0))\n",
    "    df[\"desire_jd_city_2\"] = df[\"desire_jd_city_id\"].apply(partial(extract_city,index=1))\n",
    "    df[\"desire_jd_city_3\"] = df[\"desire_jd_city_id\"].apply(partial(extract_city,index=2))\n",
    "    df[\"desire_jd_city_num\"] = df[[\"desire_jd_city_1\",\"desire_jd_city_2\",\"desire_jd_city_3\"]].sum(axis=1)\n",
    "    \n",
    "    df[\"city_equal_desired_city_1\"] = df[\"desire_jd_city_1\"]==df[\"city\"]\n",
    "    df[\"city_equal_desired_city_2\"] = df[\"desire_jd_city_2\"]==df[\"city\"]\n",
    "    df[\"city_equal_desired_city_3\"] = df[\"desire_jd_city_3\"]==df[\"city\"]\n",
    "    \n",
    "    df[\"work_years\"] = 2019-df[\"start_work_date\"].apply(lambda x : 2018 if x==\"-\" else int(x))\n",
    "    \n",
    "    \n",
    "    df[\"desire_min_salary\"] = df[\"desire_jd_salary_id\"].apply(lambda x: min_salary_dict[x])\n",
    "    df[\"desire_max_salary\"] = df[\"desire_jd_salary_id\"].apply(lambda x: max_salary_dict[x])\n",
    "    df[\"desire_salary_diff\"] = df[\"desire_max_salary\"]-df[\"desire_min_salary\"]\n",
    "    \n",
    "    df[\"min_years\"] = df[\"min_years\"].apply(lambda x: min_year_dict[x])\n",
    "    \n",
    "    df[\"work_years_statisfied\"] = df[\"work_years\"].astype(int) > df[\"min_years\"]\n",
    "    \n",
    "    df[\"salary_large_than_desire\"] = df[\"desire_min_salary\"] > df[\"min_salary\"]\n",
    "    \n",
    "    df[\"cur_salary_min\"] = df[\"cur_salary_id\"].apply(lambda x: min_salary_dict[int(x if str.isnumeric(x) else \"0\")])\n",
    "    df[\"cur_salary_max\"] = df[\"cur_salary_id\"].apply(lambda x: max_salary_dict[int(x if str.isnumeric(x) else \"0\")])\n",
    "    \n",
    "    df[\"salary_large_than_cur\"] = df[\"cur_salary_min\"] > df[\"min_salary\"]\n",
    "    \n",
    "    df[\"cur_degree_id\"] = df[\"cur_degree_id\"].fillna(\"na\").apply(lambda x:degree_dict[x.strip()])\n",
    "    \n",
    "    df[\"job_description_len\"] = df[\"job_description\"].apply(len)\n",
    "    \n",
    "    df[\"experience_num\"] = df[\"experience\"].apply(lambda x: len(str(x).split(\"|\")) if str(x) != \"nan\" else 0)\n",
    "    \n",
    "    df[\"min_edu_level\"] = df[\"min_edu_level\"].fillna(\"na\").apply(lambda x:degree_dict[x.strip()])\n",
    "    exp_in_desc_num = []\n",
    "    for idx, data in df.iterrows():\n",
    "        exp_in_desc_num.append(exp_in_desc(data[\"experience\"],data[\"job_description\"]))\n",
    "    df[\"exp_in_desc_num\"] = exp_in_desc_num\n",
    "    \n",
    "#     \"live_city_id\",\"desire_jd_salary_id\",\"cur_industry_id\",\"cur_jd_type\",\"cur_salary_id\",\n",
    "#          \"cur_degree_id\",\"city\",\"jd_sub_type\",\n",
    "#          \"max_salary\",\"min_salary\",\"is_travel\",\"min_years\",\"min_edu_level\",\n",
    "#          \"desire_jd_city_1\",\"desire_jd_city_2\",\"desire_jd_city_3\",\"work_years_statisfied\"\n",
    "#  \"jd_sub_browsed_dicret\",\"jd_sub_delivered_dicret\",\"jd_sub_satisfied_dicret\"  \n",
    "    cross_feature_tuple = [(\"live_city_id\",\"city\"),(\"live_city_id\",\"desire_jd_city_1\"),(\"cur_industry_id\",\"jd_sub_type\"),\n",
    "                          (\"cur_jd_type\",\"jd_sub_type\"),(\"cur_salary_id\",\"cur_degree_id\"),(\"city\",\"jd_sub_type\"),\n",
    "                          (\"jd_sub_type\",\"min_salary\"),(\"jd_sub_type\",\"max_salary\"),(\"jd_sub_type\",\"is_travel\"),\n",
    "                          (\"min_years\",\"jd_sub_type\"),(\"jd_sub_type\",\"require_nums\"),\n",
    "                          ]\n",
    "    cross_feature_names = list(feature[0]+\"&\"+feature[1] for feature in cross_feature_tuple)\n",
    "    print(\"create cross features\",cross_feature_names)\n",
    "    for idx,(fa,fb) in enumerate(cross_feature_tuple):\n",
    "        df[cross_feature_names[idx]] = df[fa].astype(str)+df[fb].astype(str)\n",
    "    return cross_feature_names"
   ]
  },
  {
   "cell_type": "code",
   "execution_count": 71,
   "metadata": {},
   "outputs": [
    {
     "name": "stdout",
     "output_type": "stream",
     "text": [
      "create cross features ['live_city_id&city', 'live_city_id&desire_jd_city_1', 'cur_industry_id&jd_sub_type', 'cur_jd_type&jd_sub_type', 'cur_salary_id&cur_degree_id', 'city&jd_sub_type', 'jd_sub_type&min_salary', 'jd_sub_type&max_salary', 'jd_sub_type&is_travel', 'min_years&jd_sub_type', 'jd_sub_type&require_nums']\n",
      "create cross features ['live_city_id&city', 'live_city_id&desire_jd_city_1', 'cur_industry_id&jd_sub_type', 'cur_jd_type&jd_sub_type', 'cur_salary_id&cur_degree_id', 'city&jd_sub_type', 'jd_sub_type&min_salary', 'jd_sub_type&max_salary', 'jd_sub_type&is_travel', 'min_years&jd_sub_type', 'jd_sub_type&require_nums']\n"
     ]
    },
    {
     "data": {
      "text/plain": [
       "['live_city_id&city',\n",
       " 'live_city_id&desire_jd_city_1',\n",
       " 'cur_industry_id&jd_sub_type',\n",
       " 'cur_jd_type&jd_sub_type',\n",
       " 'cur_salary_id&cur_degree_id',\n",
       " 'city&jd_sub_type',\n",
       " 'jd_sub_type&min_salary',\n",
       " 'jd_sub_type&max_salary',\n",
       " 'jd_sub_type&is_travel',\n",
       " 'min_years&jd_sub_type',\n",
       " 'jd_sub_type&require_nums']"
      ]
     },
     "execution_count": 71,
     "metadata": {},
     "output_type": "execute_result"
    }
   ],
   "source": [
    "cross_feature_names = fe(train_big_table)\n",
    "fe(test_big_table)"
   ]
  },
  {
   "cell_type": "code",
   "execution_count": 72,
   "metadata": {},
   "outputs": [
    {
     "name": "stderr",
     "output_type": "stream",
     "text": [
      "/home/ubuntu/anaconda3/envs/tensorflow_p36/lib/python3.6/site-packages/ipykernel/__main__.py:1: FutureWarning: Sorting because non-concatenation axis is not aligned. A future version\n",
      "of pandas will change to not sort by default.\n",
      "\n",
      "To accept the future behavior, pass 'sort=False'.\n",
      "\n",
      "To retain the current behavior and silence the warning, pass 'sort=True'.\n",
      "\n",
      "  if __name__ == '__main__':\n"
     ]
    }
   ],
   "source": [
    "all_big_table = pd.concat([train_big_table,test_big_table])"
   ]
  },
  {
   "cell_type": "code",
   "execution_count": 73,
   "metadata": {},
   "outputs": [],
   "source": [
    "from sklearn.preprocessing import LabelEncoder\n",
    "from tqdm import tqdm as tqdm\n",
    "import lightgbm as lgb"
   ]
  },
  {
   "cell_type": "code",
   "execution_count": 74,
   "metadata": {},
   "outputs": [],
   "source": [
    "def feature_select(target,*df_list):\n",
    "    result = []\n",
    "    cat_features = [\"live_city_id\",\"desire_jd_salary_id\",\"cur_industry_id\",\"cur_jd_type\",\"cur_salary_id\",\n",
    "         \"cur_degree_id\",\"city\",\"jd_sub_type\",\"start_month\",\n",
    "         \"max_salary\",\"min_salary\",\"is_travel\",\"min_years\",\"min_edu_level\",\n",
    "        \"work_years_statisfied\"     \n",
    "                   \n",
    "                   ]+cross_feature_names\n",
    "    lbl_dict = {}\n",
    "    for f in cat_features:\n",
    "        lbl = LabelEncoder()\n",
    "        lbl.fit(all_big_table[f].astype(str))\n",
    "        lbl_dict[f] = lbl\n",
    "    for df in df_list:\n",
    "        features = [\"live_city_id\",\"desire_jd_salary_id\",\"cur_industry_id\",\"cur_jd_type\",\"cur_salary_id\",\n",
    "             \"cur_degree_id\",\"birthday\",\"city\",\"jd_sub_type\",\n",
    "                    \"jd_no_browsed_rate\",\"jd_no_delivered_rate\",\"jd_no_satisfied_rate\",\n",
    "                   \"jd_sub_browsed_rate\",\"jd_sub_delivered_rate\",\"jd_sub_satisfied_rate\",\n",
    "                 \"start_month\",\"jd_sub_satisfied_conv_rate\",\"jd_sub_delivered_conv_rate\",\n",
    "             \"max_salary\",\"min_salary\",\"is_travel\",\"min_years\",\"min_edu_level\",\n",
    "             \"exp_in_desc_num\",\n",
    "                   \"desire_min_salary\",\"desire_max_salary\",\"salary_large_than_desire\",\"cur_salary_min\",\n",
    "                   \"cur_salary_max\",\"salary_large_than_cur\",\"job_description_len\",\"experience_num\",\"work_years_statisfied\",\"work_years\",\"desire_jd_city_num\",\"desire_salary_diff\"]+cross_feature_names\n",
    "\n",
    "        x = df[features]\n",
    "        if target in df.columns:\n",
    "            y = df[target]\n",
    "        else:\n",
    "            y = None\n",
    "        for f in cat_features:\n",
    "            lbl = lbl_dict[f]\n",
    "            x[f] = lbl.transform(x[f].astype(str))\n",
    "        result.append((x,y))\n",
    "    return result"
   ]
  },
  {
   "cell_type": "code",
   "execution_count": 75,
   "metadata": {},
   "outputs": [],
   "source": [
    "from sklearn.model_selection import KFold\n",
    "\n",
    "def cross_validate(param=dict(n_estimators=1000,metric=\"map\",colsample_bytree=0.2,max_depth=7,importance_type=\"gain\")\n",
    "                   ,n_folds=5,target=\"mix_sat\"):\n",
    "    train_users = train_big_table[\"user_id\"].unique()\n",
    "    folds = KFold(n_folds,shuffle=True,random_state=42)\n",
    "    models = []\n",
    "    test_pred = np.zeros(test_big_table.shape[0])\n",
    "    scores = []\n",
    "    for idx,(train_idx,valid_idx) in enumerate(folds.split(train_users)):\n",
    "        t_user = train_users[train_idx]\n",
    "        v_user = train_users[valid_idx]\n",
    "        train_data = train_big_table[train_big_table[\"user_id\"].isin(t_user)]\n",
    "        valid_data = train_big_table[train_big_table[\"user_id\"].isin(v_user)]\n",
    "        train_group = train_data.groupby(\"user_id\",as_index=False).count()[\"mix_sat\"].values\n",
    "        valid_group = valid_data.groupby(\"user_id\",as_index=False).count()[\"mix_sat\"].values\n",
    "        test_group = test_big_table.groupby(\"user_id\",as_index=False).count()[\"jd_no\"].values\n",
    "        \n",
    "        result = feature_select(target,train_data,valid_data,test_big_table)\n",
    "        t_x,t_y = result[0]\n",
    "        v_x,v_y = result[1]\n",
    "        test_x,_ = result[2]\n",
    "        model = lgb.LGBMRanker(**param)\n",
    "        print(\"Fold\",idx,\"-\"*30)\n",
    "        model.fit(t_x,t_y,group=train_group,eval_set=[(t_x,t_y),(v_x,v_y)],eval_group=[train_group,valid_group],early_stopping_rounds=100,verbose=10,\n",
    "                  callbacks=[lgb.reset_parameter(learning_rate=lambda x: 0.01)]\n",
    "                 )\n",
    "        models.append(model)\n",
    "        test_pred += model.predict(test_x)/n_folds\n",
    "        scores.append(model.best_score_[\"valid_1\"][\"map@1\"])\n",
    "    print(\"mean score\",np.mean(scores))\n",
    "    return models,test_pred"
   ]
  },
  {
   "cell_type": "code",
   "execution_count": 76,
   "metadata": {},
   "outputs": [
    {
     "data": {
      "text/plain": [
       "(554425, 84)"
      ]
     },
     "execution_count": 76,
     "metadata": {},
     "output_type": "execute_result"
    }
   ],
   "source": [
    "train_big_table.shape"
   ]
  },
  {
   "cell_type": "code",
   "execution_count": 77,
   "metadata": {},
   "outputs": [
    {
     "name": "stderr",
     "output_type": "stream",
     "text": [
      "/home/ubuntu/anaconda3/envs/tensorflow_p36/lib/python3.6/site-packages/ipykernel/__main__.py:32: SettingWithCopyWarning: \n",
      "A value is trying to be set on a copy of a slice from a DataFrame.\n",
      "Try using .loc[row_indexer,col_indexer] = value instead\n",
      "\n",
      "See the caveats in the documentation: http://pandas.pydata.org/pandas-docs/stable/indexing.html#indexing-view-versus-copy\n"
     ]
    },
    {
     "name": "stdout",
     "output_type": "stream",
     "text": [
      "Fold 0 ------------------------------\n",
      "Training until validation scores don't improve for 100 rounds.\n",
      "[10]\ttraining's map@1: 0.317037\tvalid_1's map@1: 0.36\n",
      "[20]\ttraining's map@1: 0.317037\tvalid_1's map@1: 0.36\n",
      "[30]\ttraining's map@1: 0.317037\tvalid_1's map@1: 0.36\n",
      "[40]\ttraining's map@1: 0.329877\tvalid_1's map@1: 0.346667\n",
      "[50]\ttraining's map@1: 0.329877\tvalid_1's map@1: 0.346667\n",
      "[60]\ttraining's map@1: 0.329877\tvalid_1's map@1: 0.346667\n",
      "[70]\ttraining's map@1: 0.329877\tvalid_1's map@1: 0.346667\n",
      "[80]\ttraining's map@1: 0.329877\tvalid_1's map@1: 0.346667\n",
      "[90]\ttraining's map@1: 0.330617\tvalid_1's map@1: 0.348889\n",
      "[100]\ttraining's map@1: 0.330864\tvalid_1's map@1: 0.348889\n",
      "Early stopping, best iteration is:\n",
      "[2]\ttraining's map@1: 0.320247\tvalid_1's map@1: 0.36\n",
      "Fold 1 ------------------------------\n",
      "Training until validation scores don't improve for 100 rounds.\n",
      "[10]\ttraining's map@1: 0.321235\tvalid_1's map@1: 0.328889\n",
      "[20]\ttraining's map@1: 0.321235\tvalid_1's map@1: 0.328889\n",
      "[30]\ttraining's map@1: 0.321235\tvalid_1's map@1: 0.328889\n",
      "[40]\ttraining's map@1: 0.321235\tvalid_1's map@1: 0.328889\n",
      "[50]\ttraining's map@1: 0.321481\tvalid_1's map@1: 0.328889\n",
      "[60]\ttraining's map@1: 0.321481\tvalid_1's map@1: 0.328889\n",
      "[70]\ttraining's map@1: 0.321975\tvalid_1's map@1: 0.328889\n",
      "[80]\ttraining's map@1: 0.321975\tvalid_1's map@1: 0.328889\n",
      "[90]\ttraining's map@1: 0.330864\tvalid_1's map@1: 0.34\n",
      "[100]\ttraining's map@1: 0.330864\tvalid_1's map@1: 0.34\n",
      "Early stopping, best iteration is:\n",
      "[1]\ttraining's map@1: 0.30716\tvalid_1's map@1: 0.346667\n",
      "Fold 2 ------------------------------\n",
      "Training until validation scores don't improve for 100 rounds.\n",
      "[10]\ttraining's map@1: 0.318765\tvalid_1's map@1: 0.373333\n",
      "[20]\ttraining's map@1: 0.318519\tvalid_1's map@1: 0.373333\n",
      "[30]\ttraining's map@1: 0.318272\tvalid_1's map@1: 0.373333\n",
      "[40]\ttraining's map@1: 0.318272\tvalid_1's map@1: 0.373333\n",
      "[50]\ttraining's map@1: 0.319259\tvalid_1's map@1: 0.355556\n",
      "[60]\ttraining's map@1: 0.32\tvalid_1's map@1: 0.348889\n",
      "[70]\ttraining's map@1: 0.318025\tvalid_1's map@1: 0.357778\n",
      "[80]\ttraining's map@1: 0.318025\tvalid_1's map@1: 0.357778\n",
      "[90]\ttraining's map@1: 0.320988\tvalid_1's map@1: 0.355556\n",
      "[100]\ttraining's map@1: 0.321481\tvalid_1's map@1: 0.357778\n",
      "Early stopping, best iteration is:\n",
      "[1]\ttraining's map@1: 0.31358\tvalid_1's map@1: 0.38\n",
      "Fold 3 ------------------------------\n",
      "Training until validation scores don't improve for 100 rounds.\n",
      "[10]\ttraining's map@1: 0.329383\tvalid_1's map@1: 0.317778\n",
      "[20]\ttraining's map@1: 0.329383\tvalid_1's map@1: 0.317778\n",
      "[30]\ttraining's map@1: 0.329136\tvalid_1's map@1: 0.317778\n",
      "[40]\ttraining's map@1: 0.329136\tvalid_1's map@1: 0.317778\n",
      "[50]\ttraining's map@1: 0.337284\tvalid_1's map@1: 0.315556\n",
      "[60]\ttraining's map@1: 0.337284\tvalid_1's map@1: 0.315556\n",
      "[70]\ttraining's map@1: 0.337037\tvalid_1's map@1: 0.311111\n",
      "[80]\ttraining's map@1: 0.337037\tvalid_1's map@1: 0.311111\n",
      "[90]\ttraining's map@1: 0.337284\tvalid_1's map@1: 0.311111\n",
      "[100]\ttraining's map@1: 0.338519\tvalid_1's map@1: 0.313333\n",
      "Early stopping, best iteration is:\n",
      "[2]\ttraining's map@1: 0.333086\tvalid_1's map@1: 0.322222\n",
      "Fold 4 ------------------------------\n",
      "Training until validation scores don't improve for 100 rounds.\n",
      "[10]\ttraining's map@1: 0.307407\tvalid_1's map@1: 0.3\n",
      "[20]\ttraining's map@1: 0.312099\tvalid_1's map@1: 0.3\n",
      "[30]\ttraining's map@1: 0.31358\tvalid_1's map@1: 0.297778\n",
      "[40]\ttraining's map@1: 0.313827\tvalid_1's map@1: 0.3\n",
      "[50]\ttraining's map@1: 0.311852\tvalid_1's map@1: 0.288889\n",
      "[60]\ttraining's map@1: 0.312346\tvalid_1's map@1: 0.291111\n",
      "[70]\ttraining's map@1: 0.313086\tvalid_1's map@1: 0.291111\n",
      "[80]\ttraining's map@1: 0.313086\tvalid_1's map@1: 0.291111\n",
      "[90]\ttraining's map@1: 0.312346\tvalid_1's map@1: 0.291111\n",
      "[100]\ttraining's map@1: 0.315802\tvalid_1's map@1: 0.291111\n",
      "Early stopping, best iteration is:\n",
      "[3]\ttraining's map@1: 0.314568\tvalid_1's map@1: 0.315556\n",
      "Fold 5 ------------------------------\n",
      "Training until validation scores don't improve for 100 rounds.\n",
      "[10]\ttraining's map@1: 0.320494\tvalid_1's map@1: 0.304444\n",
      "[20]\ttraining's map@1: 0.320494\tvalid_1's map@1: 0.304444\n",
      "[30]\ttraining's map@1: 0.320494\tvalid_1's map@1: 0.304444\n",
      "[40]\ttraining's map@1: 0.320494\tvalid_1's map@1: 0.304444\n",
      "[50]\ttraining's map@1: 0.322222\tvalid_1's map@1: 0.32\n",
      "[60]\ttraining's map@1: 0.323951\tvalid_1's map@1: 0.331111\n",
      "[70]\ttraining's map@1: 0.329877\tvalid_1's map@1: 0.328889\n",
      "[80]\ttraining's map@1: 0.330617\tvalid_1's map@1: 0.331111\n",
      "[90]\ttraining's map@1: 0.32963\tvalid_1's map@1: 0.326667\n",
      "[100]\ttraining's map@1: 0.32963\tvalid_1's map@1: 0.326667\n",
      "[110]\ttraining's map@1: 0.329877\tvalid_1's map@1: 0.328889\n",
      "[120]\ttraining's map@1: 0.329383\tvalid_1's map@1: 0.326667\n",
      "[130]\ttraining's map@1: 0.326173\tvalid_1's map@1: 0.326667\n",
      "[140]\ttraining's map@1: 0.324938\tvalid_1's map@1: 0.328889\n",
      "[150]\ttraining's map@1: 0.326173\tvalid_1's map@1: 0.331111\n",
      "Early stopping, best iteration is:\n",
      "[55]\ttraining's map@1: 0.323951\tvalid_1's map@1: 0.331111\n",
      "Fold 6 ------------------------------\n",
      "Training until validation scores don't improve for 100 rounds.\n",
      "[10]\ttraining's map@1: 0.314568\tvalid_1's map@1: 0.317778\n",
      "[20]\ttraining's map@1: 0.314815\tvalid_1's map@1: 0.317778\n",
      "[30]\ttraining's map@1: 0.314815\tvalid_1's map@1: 0.317778\n",
      "[40]\ttraining's map@1: 0.314815\tvalid_1's map@1: 0.317778\n",
      "[50]\ttraining's map@1: 0.315556\tvalid_1's map@1: 0.32\n",
      "[60]\ttraining's map@1: 0.315556\tvalid_1's map@1: 0.32\n",
      "[70]\ttraining's map@1: 0.315309\tvalid_1's map@1: 0.324444\n",
      "[80]\ttraining's map@1: 0.310617\tvalid_1's map@1: 0.308889\n",
      "[90]\ttraining's map@1: 0.308889\tvalid_1's map@1: 0.311111\n",
      "[100]\ttraining's map@1: 0.307654\tvalid_1's map@1: 0.302222\n",
      "Early stopping, best iteration is:\n",
      "[1]\ttraining's map@1: 0.307901\tvalid_1's map@1: 0.368889\n",
      "Fold 7 ------------------------------\n",
      "Training until validation scores don't improve for 100 rounds.\n",
      "[10]\ttraining's map@1: 0.310123\tvalid_1's map@1: 0.297778\n",
      "[20]\ttraining's map@1: 0.309877\tvalid_1's map@1: 0.3\n",
      "[30]\ttraining's map@1: 0.309877\tvalid_1's map@1: 0.3\n",
      "[40]\ttraining's map@1: 0.309877\tvalid_1's map@1: 0.3\n",
      "[50]\ttraining's map@1: 0.310617\tvalid_1's map@1: 0.317778\n",
      "[60]\ttraining's map@1: 0.309136\tvalid_1's map@1: 0.32\n",
      "[70]\ttraining's map@1: 0.308395\tvalid_1's map@1: 0.315556\n",
      "[80]\ttraining's map@1: 0.308395\tvalid_1's map@1: 0.313333\n",
      "[90]\ttraining's map@1: 0.307901\tvalid_1's map@1: 0.308889\n",
      "[100]\ttraining's map@1: 0.307901\tvalid_1's map@1: 0.308889\n",
      "Early stopping, best iteration is:\n",
      "[2]\ttraining's map@1: 0.312099\tvalid_1's map@1: 0.295556\n",
      "Fold 8 ------------------------------\n",
      "Training until validation scores don't improve for 100 rounds.\n",
      "[10]\ttraining's map@1: 0.317778\tvalid_1's map@1: 0.28\n",
      "[20]\ttraining's map@1: 0.316049\tvalid_1's map@1: 0.273333\n",
      "[30]\ttraining's map@1: 0.321728\tvalid_1's map@1: 0.28\n",
      "[40]\ttraining's map@1: 0.32\tvalid_1's map@1: 0.277778\n",
      "[50]\ttraining's map@1: 0.318025\tvalid_1's map@1: 0.275556\n",
      "[60]\ttraining's map@1: 0.318025\tvalid_1's map@1: 0.28\n",
      "[70]\ttraining's map@1: 0.318272\tvalid_1's map@1: 0.275556\n",
      "[80]\ttraining's map@1: 0.318272\tvalid_1's map@1: 0.275556\n",
      "[90]\ttraining's map@1: 0.318272\tvalid_1's map@1: 0.275556\n",
      "[100]\ttraining's map@1: 0.318272\tvalid_1's map@1: 0.275556\n",
      "Early stopping, best iteration is:\n",
      "[1]\ttraining's map@1: 0.316543\tvalid_1's map@1: 0.317778\n",
      "Fold 9 ------------------------------\n",
      "Training until validation scores don't improve for 100 rounds.\n",
      "[10]\ttraining's map@1: 0.316049\tvalid_1's map@1: 0.328889\n",
      "[20]\ttraining's map@1: 0.316296\tvalid_1's map@1: 0.326667\n",
      "[30]\ttraining's map@1: 0.315802\tvalid_1's map@1: 0.326667\n",
      "[40]\ttraining's map@1: 0.314321\tvalid_1's map@1: 0.324444\n",
      "[50]\ttraining's map@1: 0.310864\tvalid_1's map@1: 0.324444\n",
      "[60]\ttraining's map@1: 0.312099\tvalid_1's map@1: 0.317778\n",
      "[70]\ttraining's map@1: 0.312099\tvalid_1's map@1: 0.317778\n",
      "[80]\ttraining's map@1: 0.312346\tvalid_1's map@1: 0.315556\n",
      "[90]\ttraining's map@1: 0.315802\tvalid_1's map@1: 0.315556\n",
      "[100]\ttraining's map@1: 0.315309\tvalid_1's map@1: 0.308889\n",
      "Early stopping, best iteration is:\n",
      "[2]\ttraining's map@1: 0.326914\tvalid_1's map@1: 0.337778\n",
      "mean score 0.3375555555555555\n"
     ]
    }
   ],
   "source": [
    "models,pred = cross_validate(target=\"mix_sat\",param=dict(n_estimators=1000,metric=\"map\",subsample=0.8,min_split_gain=10,colsample_bytree=0.8,max_depth=2,importance_type=\"gain\"),n_folds=10)\n",
    "\n",
    "\n"
   ]
  },
  {
   "cell_type": "code",
   "execution_count": 78,
   "metadata": {},
   "outputs": [
    {
     "data": {
      "image/png": "[encoded data removed]",
      "text/plain": [
       "<Figure size 1152x864 with 1 Axes>"
      ]
     },
     "metadata": {},
     "output_type": "display_data"
    }
   ],
   "source": [
    "import matplotlib.pyplot as plt\n",
    "import seaborn as sns\n",
    "\n",
    "feature_importance = pd.DataFrame()\n",
    "for idx,model in enumerate(models):\n",
    "    fold_importance = pd.DataFrame()\n",
    "    fold_importance[\"feature\"] = [\"live_city_id\",\"desire_jd_salary_id\",\"cur_industry_id\",\"cur_jd_type\",\"cur_salary_id\",\n",
    "             \"cur_degree_id\",\"birthday\",\"city\",\"jd_sub_type\",\n",
    "                    \"jd_no_browsed_rate\",\"jd_no_delivered_rate\",\"jd_no_satisfied_rate\",\n",
    "                   \"jd_sub_browsed_rate\",\"jd_sub_delivered_rate\",\"jd_sub_satisfied_rate\",\n",
    "                 \"start_month\",\"jd_sub_satisfied_conv_rate\",\"jd_sub_delivered_conv_rate\",\n",
    "             \"max_salary\",\"min_salary\",\"is_travel\",\"min_years\",\"min_edu_level\",\n",
    "             \"exp_in_desc_num\",\n",
    "                   \"desire_min_salary\",\"desire_max_salary\",\"salary_large_than_desire\",\"cur_salary_min\",\n",
    "                   \"cur_salary_max\",\"salary_large_than_cur\",\"job_description_len\",\"experience_num\",\"work_years_statisfied\",\"work_years\",\"desire_jd_city_num\",\"desire_salary_diff\"]+cross_feature_names\n",
    "    fold_importance[\"importance\"] = model.feature_importances_\n",
    "    fold_importance[\"fold\"] = idx\n",
    "    feature_importance = pd.concat([feature_importance,fold_importance])\n",
    "plt.figure(figsize=(16, 12));\n",
    "sns.barplot(x=\"importance\", y=\"feature\", data=feature_importance.sort_values(by=\"importance\", ascending=False));\n",
    "plt.title('satisfied LGB Features (avg over folds)');"
   ]
  },
  {
   "cell_type": "code",
   "execution_count": 79,
   "metadata": {},
   "outputs": [
    {
     "name": "stderr",
     "output_type": "stream",
     "text": [
      "/home/ubuntu/anaconda3/envs/tensorflow_p36/lib/python3.6/site-packages/ipykernel/__main__.py:2: SettingWithCopyWarning: \n",
      "A value is trying to be set on a copy of a slice from a DataFrame.\n",
      "Try using .loc[row_indexer,col_indexer] = value instead\n",
      "\n",
      "See the caveats in the documentation: http://pandas.pydata.org/pandas-docs/stable/indexing.html#indexing-view-versus-copy\n",
      "  from ipykernel import kernelapp as app\n"
     ]
    },
    {
     "data": {
      "text/html": [
       "<div>\n",
       "<style scoped>\n",
       "    .dataframe tbody tr th:only-of-type {\n",
       "        vertical-align: middle;\n",
       "    }\n",
       "\n",
       "    .dataframe tbody tr th {\n",
       "        vertical-align: top;\n",
       "    }\n",
       "\n",
       "    .dataframe thead th {\n",
       "        text-align: right;\n",
       "    }\n",
       "</style>\n",
       "<table border=\"1\" class=\"dataframe\">\n",
       "  <thead>\n",
       "    <tr style=\"text-align: right;\">\n",
       "      <th></th>\n",
       "      <th></th>\n",
       "      <th>user_id</th>\n",
       "      <th>jd_no</th>\n",
       "      <th>jd_no_pos_cont</th>\n",
       "      <th>score</th>\n",
       "    </tr>\n",
       "  </thead>\n",
       "  <tbody>\n",
       "    <tr>\n",
       "      <th rowspan=\"5\" valign=\"top\">0</th>\n",
       "      <th>26079</th>\n",
       "      <td>002a5c1d9a6a49a2127bbabe2b1a2f99</td>\n",
       "      <td>1d920657943c874df4c071d00b59b460</td>\n",
       "      <td>9.0</td>\n",
       "      <td>0.010591</td>\n",
       "    </tr>\n",
       "    <tr>\n",
       "      <th>26123</th>\n",
       "      <td>002a5c1d9a6a49a2127bbabe2b1a2f99</td>\n",
       "      <td>aa7eee0e03f628ac98597cfb357a5f4d</td>\n",
       "      <td>16.0</td>\n",
       "      <td>0.010431</td>\n",
       "    </tr>\n",
       "    <tr>\n",
       "      <th>26139</th>\n",
       "      <td>002a5c1d9a6a49a2127bbabe2b1a2f99</td>\n",
       "      <td>9d0917fe2aeec95b5b0bb661b24fb7c5</td>\n",
       "      <td>40.0</td>\n",
       "      <td>0.009926</td>\n",
       "    </tr>\n",
       "    <tr>\n",
       "      <th>26130</th>\n",
       "      <td>002a5c1d9a6a49a2127bbabe2b1a2f99</td>\n",
       "      <td>832a5f89fa94d34aa63d1c790f250e1e</td>\n",
       "      <td>41.0</td>\n",
       "      <td>0.009766</td>\n",
       "    </tr>\n",
       "    <tr>\n",
       "      <th>26101</th>\n",
       "      <td>002a5c1d9a6a49a2127bbabe2b1a2f99</td>\n",
       "      <td>a9b4d47088734fb953fbdf51c46ae827</td>\n",
       "      <td>7.0</td>\n",
       "      <td>0.006584</td>\n",
       "    </tr>\n",
       "  </tbody>\n",
       "</table>\n",
       "</div>"
      ],
      "text/plain": [
       "                                  user_id                             jd_no  \\\n",
       "0 26079  002a5c1d9a6a49a2127bbabe2b1a2f99  1d920657943c874df4c071d00b59b460   \n",
       "  26123  002a5c1d9a6a49a2127bbabe2b1a2f99  aa7eee0e03f628ac98597cfb357a5f4d   \n",
       "  26139  002a5c1d9a6a49a2127bbabe2b1a2f99  9d0917fe2aeec95b5b0bb661b24fb7c5   \n",
       "  26130  002a5c1d9a6a49a2127bbabe2b1a2f99  832a5f89fa94d34aa63d1c790f250e1e   \n",
       "  26101  002a5c1d9a6a49a2127bbabe2b1a2f99  a9b4d47088734fb953fbdf51c46ae827   \n",
       "\n",
       "         jd_no_pos_cont     score  \n",
       "0 26079             9.0  0.010591  \n",
       "  26123            16.0  0.010431  \n",
       "  26139            40.0  0.009926  \n",
       "  26130            41.0  0.009766  \n",
       "  26101             7.0  0.006584  "
      ]
     },
     "execution_count": 79,
     "metadata": {},
     "output_type": "execute_result"
    }
   ],
   "source": [
    "submit = test_big_table[[\"user_id\",\"jd_no\",\"jd_no_pos_cont\"]]\n",
    "submit[\"score\"] = pred\n",
    "submit = submit.reset_index(drop=True)\n",
    "submit.loc[submit['jd_no_pos_cont'].isnull(),['score']]=-100\n",
    "result = submit.groupby(\"user_id\",as_index=False).apply(lambda x:x.sort_values(\"score\",ascending=False))\n",
    "result.head()"
   ]
  },
  {
   "cell_type": "code",
   "execution_count": 80,
   "metadata": {},
   "outputs": [],
   "source": [
    "result[[\"user_id\",\"jd_no\",\"score\"]].to_csv(\"submission1.csv\",index=False)"
   ]
  },
  {
   "cell_type": "code",
   "execution_count": 81,
   "metadata": {},
   "outputs": [
    {
     "data": {
      "text/plain": [
       "(29674, 3)"
      ]
     },
     "execution_count": 81,
     "metadata": {},
     "output_type": "execute_result"
    }
   ],
   "source": [
    "result[[\"user_id\",\"jd_no\",\"score\"]].shape"
   ]
  },
  {
   "cell_type": "code",
   "execution_count": null,
   "metadata": {},
   "outputs": [],
   "source": []
  }
 ],
 "metadata": {
  "kernelspec": {
   "display_name": "Python 3",
   "language": "python",
   "name": "python3"
  },
  "language_info": {
   "codemirror_mode": {
    "name": "ipython",
    "version": 3
   },
   "file_extension": ".py",
   "mimetype": "text/x-python",
   "name": "python",
   "nbconvert_exporter": "python",
   "pygments_lexer": "ipython3",
   "version": "3.6.2"
  }
 },
 "nbformat": 4,
 "nbformat_minor": 2
}
